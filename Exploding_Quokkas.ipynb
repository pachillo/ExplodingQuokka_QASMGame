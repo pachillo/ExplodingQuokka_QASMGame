{
  "cells": [
    {
      "cell_type": "markdown",
      "metadata": {
        "id": "gaygCeEHV2Le"
      },
      "source": [
        "# Welcome to $\\color{orange}{\\textsf{Exploding Quokka}}$‼️💥🐹\n",
        "**Disclaimer:** The game building yap is *very* long. So, if you want to skip ahead and [play](#play) the game, I don't blame you🙃 (remeber to \"Run All\")."
      ]
    },
    {
      "cell_type": "markdown",
      "metadata": {
        "id": "AUJQrjuXhCQ-"
      },
      "source": [
        "## Game Explanation 🤓"
      ]
    },
    {
      "cell_type": "markdown",
      "metadata": {
        "id": "ZcD8b6iJh0bh"
      },
      "source": [
        "###Introduction 🔎\n",
        "This game is heavily inspired by the game ***Exploding Kittens***, a very fun game to play with your friends! Since we are one the quantum side of things, a Quokka is chosen instead. **Exploding Quokkas** is highly similar to the its real-life counterpart, with a qubit *(pun intended)* of Quantum twists..."
      ]
    },
    {
      "cell_type": "markdown",
      "metadata": {
        "id": "b1qcMmgWjEfh"
      },
      "source": [
        "###Rules 📜\n",
        "- The game has 32 cards\n",
        "- Each players will be given 8 cards to begin\n",
        "- For every turn, players will play their cards which has special abilities\n",
        "- Only **one** card is played for each turn\n",
        "- Once the card is played, players will draw a card from the deck and end their turn\n",
        "- If a player draws a `🔴 Exploding Quokka💥🐹` cards, that player will lose unless you have a `Defuse🛠️` card"
      ]
    },
    {
      "cell_type": "markdown",
      "metadata": {
        "id": "sLGNWxcsIX6r"
      },
      "source": [
        "###The Cards' Descriptions 🃏\n",
        "\n",
        "\n"
      ]
    },
    {
      "cell_type": "markdown",
      "metadata": {
        "id": "Utyj3zRgjrr1"
      },
      "source": [
        "\n",
        "\n",
        "| Card                      | Count | Effect                              |\n",
        "|---------------------------|-------|---------------------------------------------|\n",
        "| 🔴 **Exploding Quokka💥🐹** | 1     | You lose unless defused!                    |\n",
        "|🌀**Schrödinger’s Quokka🐹📦❓**| 2 | 50% Exploding💥 / Nope🛑 (quantum superposition)|\n",
        "| **Defuse🛠️**              | 3     | Save yourself from explosions.              |\n",
        "| **Drop Bear😡🐨**          | 2     | Force another player to draw 1 card (or tunnel even more!).               |\n",
        "| **Skip➡️**                | 3     | Skip your turn without drawing a card.        |\n",
        "| **Pretty Pleasee🥺**               | 3     | Steal a card (risk quantum destruction).    |\n",
        "| **See the Future👀**      | 3     | Peek at the next card (risk alternating reality with entaglement).         |\n",
        "| **Shuffle🔀**             | 2     | Shuffle with quantum randomness.            |\n",
        "| **Nope🛑**                | 3     | Cancel another player's action. Can only be played in other's turns.            |\n",
        "| **Quokkamelon🐹🍉**       | 4     | Play 2 of this to steal from others.                  |\n",
        "| **Quokka-dile🐹🐊**       | 2     | Swap hands with another player.             |\n",
        "| **Happy Smiling Quokka🐹🐹** | 4 | Play 2 of this to steal from others.               |"
      ]
    },
    {
      "cell_type": "markdown",
      "metadata": {
        "id": "-GifiQGnmudO"
      },
      "source": [
        "**Classical Cards♟️:**\n",
        "- Exploding Quokka💥🐹\n",
        "- Defuse🛠️\n",
        "- Skip➡️\n",
        "- Nope🛑\n",
        "- Quokkamelon🐹🍉\n",
        "- Quokka-dile🐹🐊\n",
        "- Happy Smiling Quokka🐹🐹\n",
        "\n",
        "**Quantum Cards🧪:**\n",
        "- Schrödinger’s Quokka🐹📦❓\n",
        "- Drop Bear😡🐨\n",
        "- Pretty Pleasee🥺\n",
        "- See the Future👀\n",
        "- Shuffle🔀"
      ]
    },
    {
      "cell_type": "markdown",
      "metadata": {
        "id": "AwoRmDrtkot7"
      },
      "source": [
        "### The Quantum Computing theory used through-out the game"
      ]
    },
    {
      "cell_type": "markdown",
      "metadata": {
        "id": "Kwqf-G4bkzxP"
      },
      "source": [
        "<a name=\"qubit\"></a>\n",
        "#### The qubits 💻\n"
      ]
    },
    {
      "cell_type": "markdown",
      "metadata": {
        "id": "mAr7W_PvnQ09"
      },
      "source": [
        "To differentiate the quantum cards from the classical cards, we will be working with **quibits**.\n",
        "\n",
        "Classical cards will be using the traditional `0` and `1` (can only be in either of these 2 states). While quantum cards will be using qubits - the fundamentals of quantum computing.\n",
        "<br><br>\n",
        "A single qubit's state can be represented as a **superposition** as follows:\n",
        "$$|\\psi\\rangle = \\alpha |0\\rangle + \\beta |1\\rangle$$\n",
        "<br>\n",
        "- Where $|0\\rangle$ and $|1\\rangle$ are **orthogonal basis states**: $\n",
        "|0\\rangle = \\begin{bmatrix} 1 \\\\ 0 \\end{bmatrix},\n",
        "|1\\rangle = \\begin{bmatrix} 0 \\\\ 1 \\end{bmatrix}$.\n",
        "\n",
        "- $\\alpha$ and $\\beta$ are **complex numbers**, representing the **probability** of $|0\\rangle$ and $|1\\rangle$: $|\\alpha|^2 + |\\beta|^2 = 1$ (normalization).\n",
        "- This makes our qubits to collapses to $|0\\rangle$ with probability $|\\alpha|^2$ or $|1\\rangle$ with probability $|\\beta|^2$.\n",
        "<br><br>\n",
        "This would make our game much more unpredictable and chaotic 😛😛."
      ]
    },
    {
      "cell_type": "markdown",
      "metadata": {
        "id": "3iYKu93nk7sP"
      },
      "source": [
        "<a name=\"hgate\"></a>\n",
        "#### Hadamard Gate🚪\n",
        "\n"
      ]
    },
    {
      "cell_type": "markdown",
      "metadata": {
        "id": "ZiA17b85nNpU"
      },
      "source": [
        "To control the qubit to exist in its superposition, the **Hadamard gate** is applied. The Hadamard gate is a fundamental **single-qubit** operation in quantum computing that creates superposition.\n",
        "$$H = \\frac{1}{\\sqrt{2}} \\begin{bmatrix}\n",
        "1 & 1 \\\\\n",
        "1 & -1\n",
        "\\end{bmatrix}$$\n",
        "\n",
        "Applying the Hadamard gate to $|0\\rangle$ or $|1\\rangle$ would creates a perfect superposition:\n",
        "$$H|0\\rangle = \\frac{1}{\\sqrt{2}} \\begin{bmatrix}\n",
        "1 & 1 \\\\\n",
        "1 & -1\n",
        "\\end{bmatrix} \\begin{bmatrix}\n",
        "1 \\\\\n",
        "0\n",
        "\\end{bmatrix} = \\frac{1}{\\sqrt{2}}\\begin{bmatrix}\n",
        "1 \\\\\n",
        "1\n",
        "\\end{bmatrix} =\n",
        "\\frac{|0\\rangle + |1\\rangle}{\\sqrt{2}}$$\n",
        "<br>\n",
        "Here, $\\alpha = \\beta = \\frac{1}{\\sqrt{2}}$, and $\\Big(\\frac{1}{\\sqrt{2}}\\Big)^2 + \\Big(\\frac{1}{\\sqrt{2}}\\Big)^2 = 1$. So measuring would gives `0` or `1` with $50\\%$ probability each.\n",
        "\n",
        "$$H|1\\rangle = \\frac{1}{\\sqrt{2}} \\begin{bmatrix}\n",
        "1 & 1 \\\\\n",
        "1 & -1\n",
        "\\end{bmatrix} \\begin{bmatrix}\n",
        "0 \\\\\n",
        "1\n",
        "\\end{bmatrix} = \\frac{1}{\\sqrt{2}}\\begin{bmatrix}\n",
        "1 \\\\\n",
        "-1\n",
        "\\end{bmatrix} =\n",
        "\\frac{|0\\rangle - |1\\rangle}{\\sqrt{2}}$$\n",
        "<br>\n",
        "\n",
        "Here, $\\alpha = \\beta = \\frac{-1}{\\sqrt{2}}$, and $\\Big(\\frac{-1}{\\sqrt{2}}\\Big)^2 + \\Big(\\frac{-1}{\\sqrt{2}}\\Big)^2 = 1$. So measuring would gives `0` or `1` with $50\\%$ probability each.\n"
      ]
    },
    {
      "cell_type": "markdown",
      "metadata": {
        "id": "1SkbmlH0-qFQ"
      },
      "source": [
        "#### CNOT Gate🚪"
      ]
    },
    {
      "cell_type": "markdown",
      "metadata": {
        "id": "wDGx_nTL-u5C"
      },
      "source": [
        "The $CNOT$ (Controlled-NOT) gate is a fundamental **2 qubits** quantum gate that flips the target if and only if the control qubit is $|1\\rangle$ (meaning the first qubit of the state is 1).\n",
        "$$CNOT = \\begin{bmatrix}\n",
        "1 & 0 & 0 & 0 \\\\\n",
        "0 & 1 & 0 & 0 \\\\\n",
        "0 & 0 & 0 & 1 \\\\\n",
        "0 & 0 & 1 & 0\n",
        "\\end{bmatrix}$$\n",
        "Since $CNOT$ is an Indentity matrix with the elementary row operation of $R_3 \\leftrightarrow R_4$, it would perform such row operation to any matrix that is multplied to it.\n",
        "- If the control qubit is $|0\\rangle$: <br>\n",
        "$CNOT$ would perform $R_3 \\leftrightarrow R_4$. These basis state would only have either $R_1$ or $R_2$ to be one. The row operation would not affect the initial position of $1$. Hence basis state with $|0\\rangle$ control qubit would not change.\n",
        "\n",
        "- If the control qubit is $|1\\rangle$:<br>\n",
        "$CNOT$ performs $R_3 \\leftrightarrow R_4$. These basis state would only have either $R_3$ or $R_4$ to be one. The row operation would affect the initial position of $1$. Hence basis state with $|1\\rangle$ control qubit would flip these basis states."
      ]
    },
    {
      "cell_type": "markdown",
      "metadata": {
        "id": "shsTxEB1mVOl"
      },
      "source": [
        "---"
      ]
    },
    {
      "cell_type": "markdown",
      "metadata": {
        "id": "ogA14ntRYaKj"
      },
      "source": [
        "#### RX Gate🚪"
      ]
    },
    {
      "cell_type": "markdown",
      "metadata": {
        "id": "dbYFt96AYlEO"
      },
      "source": [
        "The $RX$ gate is a **single-qubit** quantum gate that performs a rotation around the $X$-axis of the Bloch sphere by a given angle $\\theta$. It can be represented as follows:\n",
        "$$ RX(\\theta)=e^{-i\\frac{\\theta}{2}X} = cos\\Big(\\frac{\\theta}{2}\\Big)I - isin\\Big(\\frac{\\theta}{2}\\Big)X\n",
        "$$\n",
        "where:\n",
        "- $X = \\begin{bmatrix}\n",
        "0 & 1 \\\\\n",
        "1 & 0\n",
        "\\end{bmatrix}$ (Pauli-X matrix) <br><br>\n",
        "- $I = \\begin{bmatrix}\n",
        "1 & 0 \\\\\n",
        "0 & 1\n",
        "\\end{bmatrix}$ (Identity matrix)\n",
        "\n",
        "Hence,\n",
        "$$ RX(\\theta)=\\begin{bmatrix}\n",
        "cos\\Big(\\frac{\\theta}{2}\\Big) & - isin\\Big(\\frac{\\theta}{2}\\Big) \\\\\n",
        "- isin\\Big(\\frac{\\theta}{2}\\Big) & cos\\Big(\\frac{\\theta}{2}\\Big)\n",
        "\\end{bmatrix}\n",
        "$$"
      ]
    },
    {
      "cell_type": "markdown",
      "metadata": {
        "id": "-oRetJJlaFWl"
      },
      "source": [
        "#### The Bloch Sphere🌏"
      ]
    },
    {
      "cell_type": "markdown",
      "metadata": {
        "id": "Q7eKWD_QaR-p"
      },
      "source": [
        "The **Bloch sphere** is a **geometric representation** of the state of a single qubit, the fundamental unit of quantum information. It provides an intuitive way to visualize quantum superpositions, rotations, and measurements."
      ]
    },
    {
      "cell_type": "markdown",
      "metadata": {
        "id": "uI3HT5GrYshk"
      },
      "source": [
        "<img src=\"https://www.researchgate.net/publication/335028508/figure/fig1/AS:789466423762944@1565234871365/The-Bloch-sphere-provides-a-useful-means-of-visualizing-the-state-of-a-single-qubit-and.ppm\" alt=\"Bloch Sphere\" width=\"420\">\n",
        "\n",
        "*(Image: ResearchGate | A Review on Quantum Computing: Qubits, Cryogenic Electronics and Cryogenic MOSFET Physics)*"
      ]
    },
    {
      "cell_type": "markdown",
      "metadata": {
        "id": "v_gnCCwKaiKJ"
      },
      "source": [
        "In other word, Bloch sphere is a unit sphere (radius = 1) where every point on the surface represents a possible pure state of a qubit. Let's visualize it like our Earth.\n",
        "- North Pole $|0\\rangle$: Classical bit state `0`\n",
        "- North Pole $|1\\rangle$: Classical bit state `1`\n",
        "- Equator: Superposition state (e.g., $|+\\rangle$ or $|-\\rangle$)\n",
        "- Inner Core (Interior Points - *not on the surface*): Mixed states (not pure quantum states, so we only focus on the sphere surface for now)\n",
        "\n",
        "Any pure qubit state can be written as:\n",
        "$$|\\psi\\rangle = cos\\Big(\\frac{\\theta}{2}\\Big)|0\\rangle + e^{i\\phi}sin\\Big(\\frac{\\theta}{2}\\Big)|1\\rangle$$\n",
        "where,\n",
        "- $\\theta$ (Polar Angle) can be from $|0\\rangle(\\theta = 0)$ to $|1\\rangle(\\theta = \\pi)$.\n",
        "- $\\phi$ (Azimuthal Angle): Phase around the equator ($0$ to $2π$).\n",
        "\n",
        "<br>\n",
        "\n",
        "So, how can we visulize quantum gates on the Bloch shpere? Well, I'm glad you asked (see how I made you read the question there🙈). Different quantum gates correspond to rotations on the Bloch sphere:\n",
        "- $H$-gate: rotate $180^°$ on the X and Z axis - Converts\t$|0\\rangle \\rightarrow |+\\rangle,\t|1\\rangle \\rightarrow\t|–\\rangle$.\n",
        "- $X$ gate: rotate $180^°$ on the X axis - Converts\t$|0\\rangle \\leftrightarrow |1\\rangle$.\n",
        "- $RX$ gate: rotate $\\theta$ around the X-axis.\n",
        "\n",
        "In the end, our Earth is just full of quantum mechanics after all."
      ]
    },
    {
      "cell_type": "markdown",
      "metadata": {
        "id": "cYwBVZNMaPbl"
      },
      "source": [
        "#Setting up the enviroment 🏁"
      ]
    },
    {
      "cell_type": "markdown",
      "metadata": {
        "id": "aEiWzE0AhY8q"
      },
      "source": [
        "## Import libraries 🗃️"
      ]
    },
    {
      "cell_type": "code",
      "execution_count": null,
      "metadata": {
        "id": "XKVz3XsunihR"
      },
      "outputs": [],
      "source": [
        "# To view the Markdown manual\n",
        "from IPython.display import Markdown\n",
        "\n",
        "# Data handling and communication with Quokka\n",
        "import json  # For working with JSON data\n",
        "import requests  # For making HTTP requests to the Quokka\n",
        "\n",
        "# Suppressing warnings (optional)\n",
        "from requests.packages.urllib3.exceptions import InsecureRequestWarning\n",
        "requests.packages.urllib3.disable_warnings(InsecureRequestWarning)  # Disable warnings about insecure requests\n",
        "\n",
        "# Math libraries to be more flexible\n",
        "import random\n",
        "import numpy as np\n",
        "\n",
        "!pip install qiskit --quiet\n",
        "import qiskit #qiskit is mainly used to draw circuit"
      ]
    },
    {
      "cell_type": "markdown",
      "metadata": {
        "id": "f-U-fkTzhh01"
      },
      "source": [
        "##Useful functions ⚙️"
      ]
    },
    {
      "cell_type": "code",
      "execution_count": null,
      "metadata": {
        "id": "5U8bglxR8Su3"
      },
      "outputs": [],
      "source": [
        "def send_to_quokka(program, count=1, my_quokka='quokka4'):\n",
        "    # Define the server address\n",
        "    request_http = 'http://{}.quokkacomputing.com/qsim/qasm'.format(my_quokka)\n",
        "\n",
        "    # Prepare the data to send\n",
        "    data = {\n",
        "        'script': program,\n",
        "        'count': count\n",
        "    }\n",
        "\n",
        "    # Send the POST request\n",
        "    result = requests.post(request_http, json=data, verify=False)\n",
        "\n",
        "    # Convert the response to a Python dictionary\n",
        "    json_obj = json.loads(result.content)\n",
        "\n",
        "    # Return the result\n",
        "    return json_obj['result']['c']"
      ]
    },
    {
      "cell_type": "markdown",
      "metadata": {
        "id": "Ztm3LAKQVQKg"
      },
      "source": [
        "---"
      ]
    },
    {
      "cell_type": "markdown",
      "metadata": {
        "id": "dfEm-48KMI05"
      },
      "source": [
        "#Let's make the game 👨‍💻"
      ]
    },
    {
      "cell_type": "markdown",
      "metadata": {
        "id": "2iZlGOxJMVF8"
      },
      "source": [
        "## Manual 📒"
      ]
    },
    {
      "cell_type": "code",
      "execution_count": null,
      "metadata": {
        "id": "iUkm4U5tKjsy"
      },
      "outputs": [],
      "source": [
        "def manual(): # A manual so that players can refer back to during the game\n",
        "  manual = \"\"\"\n",
        "\n",
        "| Card                      | Count | Effect                              |\n",
        "|---------------------------|-------|---------------------------------------------|\n",
        "| 🔴 **Exploding Quokka💥🐹** | 1     | You lose unless defused!                    |\n",
        "|🌀**Schrödinger’s Quokka🐹📦❓**| 2 | 50% Exploding💥 / Defuse🛑 (quantum superposition)|\n",
        "| **Defuse🛠️**              | 3     | Save yourself from explosions.              |\n",
        "| **Drop Bear😡🐨**          | 2     | Force another player to draw 1 card (or tunnel even more!).               |\n",
        "| **Skip➡️**                | 3     | Skip your turn without drawing a card.        |\n",
        "| **Pretty Pleasee🥺**               | 3     | Steal a card (risk quantum destruction).    |\n",
        "| **See the Future👀**      | 3     | Peek at the next card (risk alternating reality with entaglement).         |\n",
        "| **Shuffle🔀**             | 2     | Shuffle with quantum randomness.            |\n",
        "| **Nope🛑**                | 3     | Cancel another player's action. Can only be played in other's turns.            |\n",
        "| **Quokkamelon🐹🍉**       | 4     | Play 2 of this to steal from others.                  |\n",
        "| **Quokka-dile🐹🐊**       | 2     | Swap hands with another player.             |\n",
        "| **Happy Smiling Quokka🐹🐹** | 4 | Play 2 of this to steal from others.               |\n",
        "\n",
        "\"\"\"\n",
        "  display(Markdown(manual))\n",
        "\n",
        "  ready_or_not = input('Ready to get back to the game? (y/n)\\n> ')\n",
        "\n",
        "  while ready_or_not != 'y': # Menu to ask player if they are ready to resume\n",
        "    print('Take your time!')\n",
        "    ready_or_not = input('Ready to get back to the game? (y/n)\\n> ')"
      ]
    },
    {
      "cell_type": "markdown",
      "metadata": {
        "id": "YPSYXEJAo4Cg"
      },
      "source": [
        "## Building the cards ♦️\n",
        "In this section, we will focus on building the quantum cards, mainly their quantum aspect and functions."
      ]
    },
    {
      "cell_type": "markdown",
      "metadata": {
        "id": "ZwUZ7TO0c-JS"
      },
      "source": [
        "### Quantum random number generator 🔢"
      ]
    },
    {
      "cell_type": "markdown",
      "metadata": {
        "id": "WbXwQ8D_dA5n"
      },
      "source": [
        "Before we move on to build the actual card, we must build a **Quantum random number generetor**. This generator will dynamically give a random number from `1` to the `max_num` (which is input into the function).\n",
        "\n",
        "To do this, the function will first take in the `max_num`. Then the number of qubits is calculated: `num_bits = (max_num - 1).bit_length()`. We must minus `1` from `max_num` since the computer will be counting from `0`. We then take the bit length of the `max_num - 1` as the number of qubits.\n",
        "\n",
        "Then, we assign the QASM program to have `num_bits` qubits and `num_bits` classical bits. We then apply the **Hadamard gates** for each qubits. Applying Hadamard gates to each qubits would results in a 50% to get either 0 or 1 after measuring.\n",
        "\n",
        "\n",
        "Then we mesure all the qubits to classical bits to get the binary number, we then convert that binary number to `int` and `+ 1` since we minus one from it earlier.\n",
        "<br><br>\n",
        "\n",
        "**Example:** `max_num = 8` <br>\n",
        "`num_bits = (8 - 1).bit_legnth() = 3` since `7` is `111` which has `3 bits`.<br>\n",
        "Let's say after applying the Hadamard gate, the 3 qubits are in that states: $|0\\rangle$, $|1\\rangle$, $|0\\rangle$. <br>\n",
        "After measuring: `0, 1, 0` <br>\n",
        "Convert to binary: `010` <br>\n",
        "Convert to `int` and `+ 1`: `2 + 1 = 3` <br>\n",
        "Finally the function return `3` as the randomly generated number.\n",
        "<br><br>\n",
        "In the end, we would achieve true quantum randomess. This function will be used through out the building of the game."
      ]
    },
    {
      "cell_type": "code",
      "execution_count": null,
      "metadata": {
        "colab": {
          "base_uri": "https://localhost:8080/",
          "height": 156
        },
        "id": "PKpnXoN8n00G",
        "outputId": "d047fc9a-32eb-4753-8252-07dff8afbc5a"
      },
      "outputs": [
        {
          "data": {
            "text/html": [
              "<pre style=\"word-wrap: normal;white-space: pre;background: #fff0;line-height: 1.1;font-family: &quot;Courier New&quot;,Courier,monospace\">     ┌───┐┌─┐      \n",
              "q_0: ┤ H ├┤M├──────\n",
              "     ├───┤└╥┘┌─┐   \n",
              "q_1: ┤ H ├─╫─┤M├───\n",
              "     ├───┤ ║ └╥┘┌─┐\n",
              "q_2: ┤ H ├─╫──╫─┤M├\n",
              "     └───┘ ║  ║ └╥┘\n",
              "c: 3/══════╩══╩══╩═\n",
              "           0  1  2 </pre>"
            ],
            "text/plain": [
              "     ┌───┐┌─┐      \n",
              "q_0: ┤ H ├┤M├──────\n",
              "     ├───┤└╥┘┌─┐   \n",
              "q_1: ┤ H ├─╫─┤M├───\n",
              "     ├───┤ ║ └╥┘┌─┐\n",
              "q_2: ┤ H ├─╫──╫─┤M├\n",
              "     └───┘ ║  ║ └╥┘\n",
              "c: 3/══════╩══╩══╩═\n",
              "           0  1  2 "
            ]
          },
          "execution_count": 4,
          "metadata": {},
          "output_type": "execute_result"
        }
      ],
      "source": [
        "# Here is a circuit representation of the applied gate on the example's qubit\n",
        "superdense = qiskit.QuantumCircuit(3, 3)\n",
        "superdense.h(0)\n",
        "superdense.h(1)\n",
        "superdense.h(2)\n",
        "superdense.measure(0, 0)\n",
        "superdense.measure(1, 1)\n",
        "superdense.measure(2, 2)\n",
        "superdense.draw()"
      ]
    },
    {
      "cell_type": "code",
      "execution_count": null,
      "metadata": {
        "id": "YRhgrDAsc4pP"
      },
      "outputs": [],
      "source": [
        "def quantum_random_number(max_num): # A quantum random number generator that takes in a parameter max_num\n",
        "    # Calculate how many qubits we need to cover the range\n",
        "    num_bits = (max_num - 1).bit_length()\n",
        "\n",
        "    # Generate the QASM program\n",
        "    program = \"OPENQASM 2.0;\\ninclude \\\"qelib1.inc\\\";\\n\\n\"\n",
        "    program += f\"qreg q[{num_bits}];\\n\"\n",
        "    program += f\"creg c[{num_bits}];\\n\\n\"\n",
        "\n",
        "    # Add Hadamard and measurement operations for each qubit\n",
        "    for i in range(num_bits):\n",
        "        program += f\"h q[{i}];\\n\"\n",
        "    for i in range(num_bits):\n",
        "        program += f\"measure q[{i}] -> c[{i}];\\n\"\n",
        "\n",
        "    result = send_to_quokka(program, count=1)\n",
        "\n",
        "    # Properly handle the measurement results\n",
        "    measurement = result[0]  # Gets list like [0, 1, 0]\n",
        "    binary_str = ''.join(str(bit) for bit in measurement) # Connect the classical bits together\n",
        "    random_num = int(binary_str, 2) + 1  # Convert binary to decimal and shift range\n",
        "\n",
        "    # Handle case where number exceeds max_num\n",
        "    if random_num > max_num:\n",
        "        random_num = (random_num % max_num) or max_num\n",
        "\n",
        "    return random_num"
      ]
    },
    {
      "cell_type": "code",
      "execution_count": null,
      "metadata": {
        "colab": {
          "base_uri": "https://localhost:8080/"
        },
        "id": "yO-7b-TGnGYy",
        "outputId": "c170798f-bba7-4884-fdca-af7d682f4913"
      },
      "outputs": [
        {
          "name": "stdout",
          "output_type": "stream",
          "text": [
            "Quantum die roll (1-6): 1\n",
            "Random 1-20: 8\n",
            "Random 1-100: 63\n"
          ]
        }
      ],
      "source": [
        "# Test\n",
        "print(\"Quantum die roll (1-6):\", quantum_random_number(6))\n",
        "print(\"Random 1-20:\", quantum_random_number(20))\n",
        "print(\"Random 1-100:\", quantum_random_number(100))"
      ]
    },
    {
      "cell_type": "markdown",
      "metadata": {
        "id": "yUKvqgEPpAsb"
      },
      "source": [
        "### Schrödinger's Quokka🐹📦❓\n",
        "> \"The universe holds its breath...\""
      ]
    },
    {
      "cell_type": "markdown",
      "metadata": {
        "id": "MIYb3htFXJ80"
      },
      "source": [
        "*In the sun-drenched outback of Australia, a peculiar quokka was born under the glow of a quantum anomaly—a rift in reality caused by a rogue physicist’s failed experiment. This quokka, neither fully alive nor fully dead, existed in a state of quantum superposition, its fate forever tied to the observer.*\n",
        "\n",
        "*Now, this enigmatic creature wanders the card deck, a walking (or collapsing) probability wave. Draw it, and you gamble with quantum fate:*\n",
        "\n",
        "- *50% chance it Explodes💥💥💥—a sudden, quokka-shaped catastrophe!*\n",
        "\n",
        "- *50% chance it Nope🛑—merely blinking at you, smug and unharmed, as if reality itself just shrugged.*\n",
        "<br>\n",
        "\n",
        "*After all, to stop a player comes with a **great price**!*\n",
        "\n",
        "**Tip**: Once draw this card, you can either play the card right away, or keep it and play it later. **Play this card with great caution!**"
      ]
    },
    {
      "cell_type": "markdown",
      "metadata": {
        "id": "TPXLfyRgqQpN"
      },
      "source": [
        "To replicate this infamous Quantum Mechanics paradox, we will be working with **quibits** and **Hadamard gate**.\n",
        "\n",
        "From the inspiration of real life Schrödinger's cat, we will be implementing **superpostion** into our program. As mentioned above, qubit of a quantum computer exist as a superpostion - many states at once until measured. This makes our quokka can also exist in 2 states (Exploding or Nope) at once until play. To create the random sensation, we apply the Hadamard gate on one qubit (there only one quokka in the Schrödinger's box😞).\n",
        "\n",
        "\n"
      ]
    },
    {
      "cell_type": "code",
      "execution_count": null,
      "metadata": {
        "colab": {
          "base_uri": "https://localhost:8080/",
          "height": 94
        },
        "id": "0qr_lH69_UXi",
        "outputId": "e83de8f5-1927-40f7-9c63-ba951128ec68"
      },
      "outputs": [
        {
          "data": {
            "text/html": [
              "<pre style=\"word-wrap: normal;white-space: pre;background: #fff0;line-height: 1.1;font-family: &quot;Courier New&quot;,Courier,monospace\">     ┌───┐┌─┐\n",
              "  q: ┤ H ├┤M├\n",
              "     └───┘└╥┘\n",
              "c: 1/══════╩═\n",
              "           0 </pre>"
            ],
            "text/plain": [
              "     ┌───┐┌─┐\n",
              "  q: ┤ H ├┤M├\n",
              "     └───┘└╥┘\n",
              "c: 1/══════╩═\n",
              "           0 "
            ]
          },
          "execution_count": 7,
          "metadata": {},
          "output_type": "execute_result"
        }
      ],
      "source": [
        "# Here is a circuit representation of the applied gate on the qubit\n",
        "superdense = qiskit.QuantumCircuit(1, 1)\n",
        "superdense.h(0)\n",
        "superdense.measure(0, 0)\n",
        "superdense.draw()"
      ]
    },
    {
      "cell_type": "code",
      "execution_count": null,
      "metadata": {
        "id": "RZhuAGg_ECsx"
      },
      "outputs": [],
      "source": [
        "# QASM program to create superposition (Schrödinger's Quokka state)\n",
        "schrodingers_quokka_program = \"\"\"\n",
        "          OPENQASM 2.0;\n",
        "          include \"qelib1.inc\";\n",
        "\n",
        "          qreg q[1];  // Single qubit representing the quokka (0 = Explode, 1 = Nope)\n",
        "          creg c[1];  // Classical register to store measurement\n",
        "\n",
        "          // The quantum \"box\" that puts the quokka in superposition\n",
        "          h q[0];     // Hadamard gate creates superposition\n",
        "\n",
        "          // Measure the qubit (opening the box)\n",
        "          measure q[0] -> c[0];\n",
        "          \"\"\"\n",
        "\n",
        "def schrodingers_quokka():\n",
        "  result = send_to_quokka(schrodingers_quokka_program, count=1)[0][0] # Collect the int from the list returned\n",
        "\n",
        "  if result == 0:\n",
        "    print('The Quokka turned into a Bomb! 😱😱😱')\n",
        "    return \"Explosion\"\n",
        "  else:\n",
        "    print('The Quokka turned into a Nope card! 😮‍💨😮‍💨😮‍💨')\n",
        "    return \"Nope\""
      ]
    },
    {
      "cell_type": "markdown",
      "metadata": {
        "id": "HrjzCoq2rsXI"
      },
      "source": [
        "### Drop Bear😡🐨\n",
        "> \"You hear a rustle above you. Is it in the tree? In your hand? Too late—RUNN.\""
      ]
    },
    {
      "cell_type": "markdown",
      "metadata": {
        "id": "lGdXxwBu_z9U"
      },
      "source": [
        "**The legend is true!!**\n",
        "*Deep on the burning eucalyptus tree in a rainforests, a rogue quantum creature fused the DNA of a koala with the unpredictability of a tunneling particle. The result? The Drop Bear—a creature that doesn’t just fall from trees, but phases through dimensions to ambush its prey.*\n",
        "<br><br>\n",
        "When played, the Drop Bear doesn’t merely attack—it exists in a **superposition of viciousness**:\n",
        "- *1 card draw (Classical Chomp): The bear drops normally. \"Just a scratch!\"*😎\n",
        "\n",
        "- *2 card draws (Quantum Pounce): The bear materializes twice. \"Wait, why are there TWO?!\"*😨\n",
        "\n",
        "- *3 card draws (Tunneling Frenzy): The bear teleports through reality itself. \"IT’S INSIDE YOUR DECK NOW.\"*🙀\n",
        "<br><br>\n",
        "\n",
        "**Tip:** Use this when opponents are low on defuses—the tunneling effect stacks unpredictably!"
      ]
    },
    {
      "cell_type": "markdown",
      "metadata": {
        "id": "C0pk4HEVDB1t"
      },
      "source": [
        "To make the **Drop Bear** card unpredictable. We once again use the Hadamard gate, this time on 2 qubits.\n",
        "\n",
        "This Drop Bear can also perform quantum tunneling (*a quantum phenomenon where a particle passes through a potential energy barrier that it classically shouldn’t be able to cross*), making it breaks through dimensions. To replicate this in a quantum computer, we will use the parameter `quantum_strength`. `quantum_strength` decides how \"quantum\" the Drop Bear will behave. Ranging from `0.1` to `1` (From low to complete quantum effect), eventually this will decide how many card the other player have to draw. `quantum_strength` is determined by the `quantum_random_number_generator`.\n",
        "\n",
        "**Developer's note:** I don't want this function to be too classical, hence `quantum_strength` cannot be 0.\n",
        "<br><br>\n",
        "Using two qubits would increase the randomess ($2^2 > 2^1$, hence more unpredictable) and it is needed to generate from 1 to 3 (`bit length = 2`).\n",
        "1. We apply the Hadamard gate to the first and second qubit to create superposition randomess.\n",
        "2. Then we apply the **controlled-phase gate** (`cu1`) to control how quantum can our program behave.\n",
        "<br><br>\n",
        "$$ cu1(\\lambda) =\n",
        "\\begin{bmatrix}\n",
        "1 & 0 & 0 & 0 \\\\\n",
        "0 & 1 & 0 & 0 \\\\\n",
        "0 & 0 & 1 & 0 \\\\\n",
        "0 & 0 & 0 & e^{i\\lambda}\n",
        "\\end{bmatrix}\n",
        "$$ <br>\n",
        "$$\n",
        "\\lambda = \\textsf{quantum_strength} \\times \\pi\n",
        "$$\n",
        "<br>\n",
        "3. We then measure the outcome of the function. `01 = 1, 10 = 2` and `11 or 00 = 3` (number of card to draw).\n",
        "\n",
        "**Developer's note:** Since the Drop Bear is crazy, player cannot just draw 0 card. I'm truly sorry😢.\n",
        "\n",
        "\n",
        "**Example:** Initial state $ = |00\\rangle$\n",
        "1. Apply H-gate to first and second qubits.\n",
        "$$\n",
        "\\Big(\\frac{|0\\rangle + |1\\rangle}{\\sqrt{2}} \\Big) \\otimes \\Big(\\frac{|0\\rangle + |1\\rangle}{\\sqrt{2}}\\Big) = \\frac{|00\\rangle + |01\\rangle + |10\\rangle + |11\\rangle}{2}\n",
        "$$*(All 4 basis states are equally probable)*<br><br>\n",
        "2. Apply the controlled-phase gate to both qubits.<br>The last state will pick up $e^{i\\lambda}$ since this gate is an identity matrix with the elementary operation $R_4 \\rightarrow e^{i\\lambda} \\times R_4$.<br><br>\n",
        "$$\\begin{bmatrix}\n",
        "1 & 0 & 0 & 0 \\\\\n",
        "0 & 1 & 0 & 0 \\\\\n",
        "0 & 0 & 1 & 0 \\\\\n",
        "0 & 0 & 0 & e^{i\\lambda}\n",
        "\\end{bmatrix} \\times \\frac{|00\\rangle + |01\\rangle + |10\\rangle + |11\\rangle}{2}= \\frac{|00\\rangle + |01\\rangle + |10\\rangle + e^{i\\lambda}|11\\rangle}{2}$$<br>\n",
        "3. Measuring the outcomes:\n",
        "- If $\\lambda = \\pi$, hence `quantum_strength = 1 `: <br>$|11\\rangle$ becomes $-|11\\rangle$, canceling out with other paths.\n",
        "$$P(|00\\rangle) = P(|01\\rangle) = P(|10\\rangle) = P(|11\\rangle)$$\n",
        "This means at full `quantum_strength`, the quantum computer can perform its function 100%. Meaning the randomess is totally depended on the H-gates.<br><br>\n",
        "- If $0 < \\lambda < \\pi$, hence `0 < quantum_strength < 1 `:\n",
        "$$P(|00\\rangle) = P(|01\\rangle) = P(|10\\rangle)$$\n",
        "While $P(|1\\rangle)$ could be reduced.<br>\n",
        "This means at `quantum_strength < 1`, the quantum computer would encouter interference. Making whatever affected state less likely to be encountered."
      ]
    },
    {
      "cell_type": "code",
      "execution_count": null,
      "metadata": {
        "colab": {
          "base_uri": "https://localhost:8080/",
          "height": 125
        },
        "id": "oKR-d2yA6E_X",
        "outputId": "b82eba94-21f2-41e9-f75a-858038c0ae3f"
      },
      "outputs": [
        {
          "data": {
            "text/html": [
              "<pre style=\"word-wrap: normal;white-space: pre;background: #fff0;line-height: 1.1;font-family: &quot;Courier New&quot;,Courier,monospace\">     ┌───┐         ┌─┐   \n",
              "q_0: ┤ H ├─■───────┤M├───\n",
              "     ├───┤ │P(π/2) └╥┘┌─┐\n",
              "q_1: ┤ H ├─■────────╫─┤M├\n",
              "     └───┘          ║ └╥┘\n",
              "c: 2/═══════════════╩══╩═\n",
              "                    0  1 </pre>"
            ],
            "text/plain": [
              "     ┌───┐         ┌─┐   \n",
              "q_0: ┤ H ├─■───────┤M├───\n",
              "     ├───┤ │P(π/2) └╥┘┌─┐\n",
              "q_1: ┤ H ├─■────────╫─┤M├\n",
              "     └───┘          ║ └╥┘\n",
              "c: 2/═══════════════╩══╩═\n",
              "                    0  1 "
            ]
          },
          "execution_count": 9,
          "metadata": {},
          "output_type": "execute_result"
        }
      ],
      "source": [
        "# Here is a circuit representation of the applied gates on the qubit\n",
        "superdense = qiskit.QuantumCircuit(2, 2)\n",
        "quantum_strength = 0.5  # For example, let's take λ = 0.5\n",
        "\n",
        "superdense.h([0, 1])\n",
        "superdense.cp(quantum_strength * np.pi, 0, 1)  # cp(λ, control, target)\n",
        "superdense.measure([0, 1], [0, 1])\n",
        "\n",
        "superdense.draw()"
      ]
    },
    {
      "cell_type": "code",
      "execution_count": null,
      "metadata": {
        "id": "AcAh8PFkWEvi"
      },
      "outputs": [],
      "source": [
        "def generate_drop_bear_program(quantum_strength=0.5): # Drop bear program will be generated base on the quantum_strength, default is 0.5 for a little spice!\n",
        "    program = f\"\"\"\n",
        "    OPENQASM 2.0;\n",
        "    include \"qelib1.inc\";\n",
        "\n",
        "    qreg q[2];  // q[0] = number of card to draw, q[1] = tunneling control\n",
        "    creg c[2];  // Measurement registers\n",
        "\n",
        "    // Initialize quantum state\n",
        "    h q[0];\n",
        "    h q[1];\n",
        "\n",
        "    // Apply quantum tunneling effect\n",
        "    // Strength determines how quantum the behavior is\n",
        "    cu1({quantum_strength}*pi) q[0],q[1];\n",
        "\n",
        "    // Measure both qubits to determine how many card to draw\n",
        "    measure q[0] -> c[0];\n",
        "    measure q[1] -> c[1];\n",
        "    \"\"\"\n",
        "    return program\n",
        "\n",
        "def generate_quantum_strength(): # The quantum_strenght is determined by quantum randomly, adding to the chaos more chaos\n",
        "  return quantum_random_number(100)/100 # 100 times make it more random, and the quantum strength more specific\n",
        "\n",
        "def drop_bear(quantum_strength=generate_quantum_strength()): # Get the returned result from Quokka and determine how many card to draw\n",
        "    results = send_to_quokka(generate_drop_bear_program(quantum_strength), count=1)[0]\n",
        "\n",
        "    if results[0] == 0 and results[1] == 1:\n",
        "        return 1\n",
        "    elif results[0] == 1 and results[1] == 0:\n",
        "        return 2\n",
        "    else:\n",
        "        return 3"
      ]
    },
    {
      "cell_type": "markdown",
      "metadata": {
        "id": "a14I-mvKs8SF"
      },
      "source": [
        "### Pretty Pleasee🥺\n",
        "> *\\\"Aww! Look at the quokka sparkling eyes! I'm sure giving it my card wouldn't harm anyone\\\"* - Famous last word"
      ]
    },
    {
      "cell_type": "markdown",
      "metadata": {
        "id": "acGYPh_pSyPE"
      },
      "source": [
        "*A quantum copycat with commitment issues.* <br> This card is forged from the **No-cloning Theorem** *(It is impossible to create an independent and identical copy of an arbitrary unknown quantum state)*. When dealt this card, the other player's hand will randomly select a card. You may get a perfect copy of this card, a mutation or nothing at all. <br>\n",
        "\n",
        "**Tips:** Play this card when you feel like your opponent has some great cards."
      ]
    },
    {
      "cell_type": "markdown",
      "metadata": {
        "id": "PxqwIvUvT6bX"
      },
      "source": [
        "To implement the No-cloning theorem, we will use the $RX$ gate then the $CNOT$ gate on 3 qubits.\n",
        "`q[0]` is used as the original card, `q[1]` is a copy attempt, `q[2]` is used for verification\n",
        "<br>\n",
        "\n",
        "1. Apply $RX$ gate on the first qubit. to prepare the superposition state of the orignal card, get ready to be cloned. Now, the original card is unknown to the copier (you).\n",
        "2. Apply $CNOT$ gate on the pair of first and second qubits. This is to attempt to copy the original card.\n",
        "3. Apply $CNOT$ gate on the pair of first and third qubits. This is to compare the original card with the verification.\n",
        "4. Apply $CNOT$ gate on the pair of second and second qubits. This is to compare the copy attempt with the verification.\n",
        "5. Measure the 3 qubits.<br>\n",
        "\n",
        "**Example:**\n",
        "Initial state: $|011\\rangle$\n",
        "\n",
        "Apply RX($\\frac{\\pi}{4}$) gate to the first qubit $|0\\rangle$.<br><br>\n",
        "$$\n",
        "\\begin{bmatrix}\n",
        "\\cos(\\pi/8) & -i \\sin(\\pi/8) \\\\\n",
        "-i \\sin(\\pi/8) & \\cos(\\pi/8)\n",
        "\\end{bmatrix} \\begin{bmatrix} 1 \\\\ 0 \\end{bmatrix} = \\begin{bmatrix}\n",
        "\\cos(\\pi/8) \\\\\n",
        "-i \\sin(\\pi/8)\n",
        "\\end{bmatrix} = \\cos\\left(\\frac{\\pi}{8}\\right)|0\\rangle - i \\sin\\left(\\frac{\\pi}{8}\\right)|1\\rangle \\approx 0.9239 |0\\rangle - i \\cdot 0.3827 |1\\rangle\n",
        "$$\n",
        "<br>\n",
        "Once measure, the final state of the first qubit is $|0\\rangle$. So let's assume that for easier, simpler understanding.\n",
        "\n",
        "Now $CNOT$ the first and second qubit $(|01\\rangle)$ would do nothing since the control qubit is $|0\\rangle$. Same with the first and third qubit pair $(|00\\rangle)$. The $CNOT$ gate would turn the second and third qubit pair $(|10\\rangle)$ int0 $(|11\\rangle)$.\n",
        "\n",
        "After measuring, the program returns `[0, 1, 1]`.\n",
        "\n",
        "Since the verification (last bit) is not `0`. It will return a fail_copy, meaning the No-cloning Theorem has affected you.\n",
        "\n",
        "Now let's assume that verification is indeed `0`. Then we will compare the **original card** (first bit) and the **copied card** (second bit). If they are the **same**, then it is a perfect copy, meaning you will get the exact card that was randomly selected. Otherwise, it's a **mutation**, you will get a different card compare to the original copy."
      ]
    },
    {
      "cell_type": "code",
      "execution_count": null,
      "metadata": {
        "colab": {
          "base_uri": "https://localhost:8080/",
          "height": 156
        },
        "id": "-MfzkpRgnMXG",
        "outputId": "37ad5e01-48c6-41bd-93c9-3f07506a6be8"
      },
      "outputs": [
        {
          "data": {
            "text/html": [
              "<pre style=\"word-wrap: normal;white-space: pre;background: #fff0;line-height: 1.1;font-family: &quot;Courier New&quot;,Courier,monospace\">     ┌─────────┐               ┌─┐      \n",
              "q_0: ┤ Rx(π/4) ├──■────■───────┤M├──────\n",
              "     └─────────┘┌─┴─┐  │       └╥┘┌─┐   \n",
              "q_1: ───────────┤ X ├──┼────■───╫─┤M├───\n",
              "                └───┘┌─┴─┐┌─┴─┐ ║ └╥┘┌─┐\n",
              "q_2: ────────────────┤ X ├┤ X ├─╫──╫─┤M├\n",
              "                     └───┘└───┘ ║  ║ └╥┘\n",
              "c: 3/═══════════════════════════╩══╩══╩═\n",
              "                                0  1  2 </pre>"
            ],
            "text/plain": [
              "     ┌─────────┐               ┌─┐      \n",
              "q_0: ┤ Rx(π/4) ├──■────■───────┤M├──────\n",
              "     └─────────┘┌─┴─┐  │       └╥┘┌─┐   \n",
              "q_1: ───────────┤ X ├──┼────■───╫─┤M├───\n",
              "                └───┘┌─┴─┐┌─┴─┐ ║ └╥┘┌─┐\n",
              "q_2: ────────────────┤ X ├┤ X ├─╫──╫─┤M├\n",
              "                     └───┘└───┘ ║  ║ └╥┘\n",
              "c: 3/═══════════════════════════╩══╩══╩═\n",
              "                                0  1  2 "
            ]
          },
          "execution_count": 11,
          "metadata": {},
          "output_type": "execute_result"
        }
      ],
      "source": [
        "# Here is a circuit representation of the example\n",
        "superdense = qiskit.QuantumCircuit(3, 3)\n",
        "\n",
        "superdense.rx(np.pi/4, 0)\n",
        "superdense.cx(0, 1)\n",
        "superdense.cx(0, 2)\n",
        "superdense.cx(1, 2)\n",
        "\n",
        "superdense.measure([0, 1, 2], [0, 1, 2])\n",
        "\n",
        "superdense.draw()"
      ]
    },
    {
      "cell_type": "code",
      "execution_count": null,
      "metadata": {
        "id": "SG6GbRJstJ3K"
      },
      "outputs": [],
      "source": [
        "def generate_favor_program(angle=\"pi/4\"): # Simulates a quantum favor card that attempts to clone another card\n",
        "    # The default angle is pi/4 because it creates biased superposition, so the original card won't change (default am I right?)\n",
        "    program = f\"\"\"\n",
        "    OPENQASM 2.0;\n",
        "    include \"qelib1.inc\";\n",
        "\n",
        "    qreg q[3];  // q[0] = original card, q[1] = copy attempt, q[2] = verification\n",
        "    creg c[3];\n",
        "\n",
        "    // Prepare the original card state (unknown to the copier)\n",
        "    rx({angle}) q[0];\n",
        "\n",
        "    // Attempt to clone (CNOT works only for basis states)\n",
        "    cx q[0], q[1];\n",
        "\n",
        "    // Verification: compare original and copy\n",
        "    cx q[0], q[2];\n",
        "    cx q[1], q[2];\n",
        "\n",
        "    measure q[0] -> c[0];\n",
        "    measure q[1] -> c[1];\n",
        "    measure q[2] -> c[2];\n",
        "    \"\"\"\n",
        "    return program\n",
        "\n",
        "def interpret_favor_result():\n",
        "    angle = f\"{quantum_random_number(100)/100}*pi\" # Quantumly randomly generate an angle\n",
        "    result=send_to_quokka(generate_favor_program(angle), count=1)\n",
        "    original, copy, verification = result[0][0], result[0][1], result[0][2]\n",
        "\n",
        "    if verification == 0:\n",
        "        if original == copy:\n",
        "            return \"perfect_copy\"  # Got exact same card\n",
        "        else:\n",
        "            return \"mutated_copy\"  # Got different version\n",
        "    else:\n",
        "        return \"copy_failed\"  # Complete cloning failure\n",
        "\n",
        "# Favor is the original name from exploding kitten and it's shorter\n",
        "def favor(attacker, defender): # Make the function more interactive by handling the outcomes\n",
        "    print(f\"Attempting to quantum-copy a card from {defender.name}'s hand...\")\n",
        "    if not defender.hand: # If no card then just skip\n",
        "        print(f\"{defender.name} has no cards to copy!\")\n",
        "        return\n",
        "\n",
        "    card_to_copy = defender.hand[quantum_random_number(len(defender.hand) - 1)]\n",
        "\n",
        "    # Run quantum copying attempt\n",
        "    outcome = interpret_favor_result()\n",
        "\n",
        "    # Handle outcomes\n",
        "    if outcome == \"perfect_copy\": # The original is the same as the copy\n",
        "        print(f\"Successful clone! {attacker.name} gets a perfect copy of {card_to_copy}!\")\n",
        "        attacker.hand.append(card_to_copy)\n",
        "    elif outcome == \"mutated_copy\":\n",
        "      mutated = card_to_copy\n",
        "      while mutated == card_to_copy: # The original is not the same as the copy\n",
        "        # Higher chance of mutating to a Happy Smiling Quokka or Quokkamelon\n",
        "        mutated = random.choice(['Defuse🛠️', 'Drop Bear😡🐨', 'Skip➡️', 'Pretty Pleasee🥺', 'See the Future👀', 'Shuffle🔀', 'Nope🛑','Quokkamelon🐹🍉', 'Quokkamelon🐹🍉', 'Quokkamelon🐹🍉', 'Quokkamelon🐹🍉', 'Quokka-dile🐹🐊', 'Happy Smiling Quokka🐹🐹', 'Happy Smiling Quokka🐹🐹', 'Happy Smiling Quokka🐹🐹', 'Happy Smiling Quokka🐹🐹'])\n",
        "      print(f\"Partial success! Got mutated version: {mutated}\")\n",
        "      attacker.hand.append(mutated)\n",
        "    else: # The verification fails, no copy\n",
        "        print(\"Quantum no-cloning theorem prevented copying!\")\n",
        "        print(f\"{attacker.name} gets nothing but draws a card instead\")\n",
        "\n",
        "    # Original card remains with defender (no-cloning theorem preserves original)\n",
        "    print(f\"{defender.name} keeps their original card\\n\")"
      ]
    },
    {
      "cell_type": "markdown",
      "metadata": {
        "id": "1k1axZVOvsKw"
      },
      "source": [
        "### See the Future👀\n",
        "\n",
        "> \"Mirror mirror on the wall. Oops wrong story!\"\n",
        "\n"
      ]
    },
    {
      "cell_type": "markdown",
      "metadata": {
        "id": "xUUQFbDeIQYG"
      },
      "source": [
        "*You stare into the abyss of the deck. The abyss stares back—and winks. Those cards you saw? They’re already dancing in a quantum fog, shifting between 'next' and 'never', 'today' and 'tomorrow', 'Android' or 'iOS'. Trust nothing!* <br><br>\n",
        "\n",
        "When played, this card will reveal the first 3 cards of the deck. However, for every peek you took, you will create entanglment with the cards you saw. Consequently, these card **may** mutate and change to a Defuse🛠️ or an Exploding Quokka💥🐹 cards.\n",
        "\n",
        "**Tips:** Your thirst for knowledge comes with a price. Please play this card carefully."
      ]
    },
    {
      "cell_type": "markdown",
      "metadata": {
        "id": "Rk2LkIsiKWcp"
      },
      "source": [
        "To create **entanglement** with the first 3 cards, we will use **Bell's state** on 3 pairs of qubits (6 qubits in total).\n",
        "The Bell's state is made up of the Hadamard gate and the $CNOT$ gate. Bell states are **2 qubits** quantum states that exhibit **maximal entanglement**, meaning the state of one qubit is **perfectly correlated** with the other, regardless of distance."
      ]
    },
    {
      "cell_type": "code",
      "execution_count": null,
      "metadata": {
        "colab": {
          "base_uri": "https://localhost:8080/",
          "height": 94
        },
        "id": "B-wsKcbbK-Y9",
        "outputId": "73a9eaef-4f0f-465b-c488-2cb27bd1704a"
      },
      "outputs": [
        {
          "data": {
            "text/html": [
              "<pre style=\"word-wrap: normal;white-space: pre;background: #fff0;line-height: 1.1;font-family: &quot;Courier New&quot;,Courier,monospace\">     ┌───┐     \n",
              "q_0: ┤ H ├──■──\n",
              "     └───┘┌─┴─┐\n",
              "q_1: ─────┤ X ├\n",
              "          └───┘</pre>"
            ],
            "text/plain": [
              "     ┌───┐     \n",
              "q_0: ┤ H ├──■──\n",
              "     └───┘┌─┴─┐\n",
              "q_1: ─────┤ X ├\n",
              "          └───┘"
            ]
          },
          "execution_count": 13,
          "metadata": {},
          "output_type": "execute_result"
        }
      ],
      "source": [
        "# A qiskit program to create an example of Bell's state in circuit diagram\n",
        "dummy = qiskit.QuantumCircuit(2)\n",
        "\n",
        "dummy.h(0)\n",
        "dummy.cx(0,1)\n",
        "\n",
        "dummy.draw()"
      ]
    },
    {
      "cell_type": "markdown",
      "metadata": {
        "id": "qSC73UG4MDVt"
      },
      "source": [
        "For each of the pair of qubits, the H-gate will be applied first, then the CNOT gate.\n",
        "1. Apply H-gate to the first qubit of each pair: This create a superposition on the first qubit. THe first state can then stay in a state that can trigger both CNOT outcomes ($|0\\rangle$ and $|1\\rangle$).<br><br>\n",
        "2. Apply CNOT-gate: Entangles the qubits by conditionally flipping the target.<br><br>\n",
        "3. Measure the first qubit of each pair\n",
        "\n",
        "**Example:** Initial state = $|00\\rangle$ <br>\n",
        "Applying the H-gate:\n",
        "$$\\frac{|0\\rangle + |1\\rangle}{\\sqrt{2}} \\otimes |0\\rangle = \\frac{|00\\rangle +|10\\rangle}{\\sqrt{2}}$$\n",
        "<br>\n",
        "Applying the CNOT gate:\n",
        "- If control is $|0\\rangle$: Target stays unchanged.\n",
        "- If control is $|1\\rangle$: Target flips $(|0\\rangle \\rightarrow |1\\rangle)$.\n",
        "\n",
        "$$\\frac{|00\\rangle +|11\\rangle}{\\sqrt{2}} = |\\Phi^+\\rangle$$\n",
        "\n",
        "The first qubit is then measured, if `1` then the card will turn into Exploding Quokka💥🐹, if `0` then it will be Defuse🛠️. Of course, this will be decided if `quantum_random_number` generates a number greater than `6` in a range of `(1, 10)` ($40\\%$ chance of mutating)."
      ]
    },
    {
      "cell_type": "markdown",
      "metadata": {
        "id": "NYjOPL0gQgdp"
      },
      "source": []
    },
    {
      "cell_type": "code",
      "execution_count": null,
      "metadata": {
        "colab": {
          "base_uri": "https://localhost:8080/",
          "height": 248
        },
        "id": "wNO3ZD62PRTt",
        "outputId": "41be30f9-58f8-4c1e-fef2-082effe02955"
      },
      "outputs": [
        {
          "data": {
            "text/html": [
              "<pre style=\"word-wrap: normal;white-space: pre;background: #fff0;line-height: 1.1;font-family: &quot;Courier New&quot;,Courier,monospace\">     ┌───┐     ┌─┐      \n",
              "q_0: ┤ H ├──■──┤M├──────\n",
              "     └───┘┌─┴─┐└╥┘      \n",
              "q_1: ─────┤ X ├─╫───────\n",
              "     ┌───┐└───┘ ║ ┌─┐   \n",
              "q_2: ┤ H ├──■───╫─┤M├───\n",
              "     └───┘┌─┴─┐ ║ └╥┘   \n",
              "q_3: ─────┤ X ├─╫──╫────\n",
              "     ┌───┐└───┘ ║  ║ ┌─┐\n",
              "q_4: ┤ H ├──■───╫──╫─┤M├\n",
              "     └───┘┌─┴─┐ ║  ║ └╥┘\n",
              "q_5: ─────┤ X ├─╫──╫──╫─\n",
              "          └───┘ ║  ║  ║ \n",
              "c: 3/═══════════╩══╩══╩═\n",
              "                0  1  2 </pre>"
            ],
            "text/plain": [
              "     ┌───┐     ┌─┐      \n",
              "q_0: ┤ H ├──■──┤M├──────\n",
              "     └───┘┌─┴─┐└╥┘      \n",
              "q_1: ─────┤ X ├─╫───────\n",
              "     ┌───┐└───┘ ║ ┌─┐   \n",
              "q_2: ┤ H ├──■───╫─┤M├───\n",
              "     └───┘┌─┴─┐ ║ └╥┘   \n",
              "q_3: ─────┤ X ├─╫──╫────\n",
              "     ┌───┐└───┘ ║  ║ ┌─┐\n",
              "q_4: ┤ H ├──■───╫──╫─┤M├\n",
              "     └───┘┌─┴─┐ ║  ║ └╥┘\n",
              "q_5: ─────┤ X ├─╫──╫──╫─\n",
              "          └───┘ ║  ║  ║ \n",
              "c: 3/═══════════╩══╩══╩═\n",
              "                0  1  2 "
            ]
          },
          "execution_count": 14,
          "metadata": {},
          "output_type": "execute_result"
        }
      ],
      "source": [
        "# A qiskit program to create a circuit diagram for this case\n",
        "superdense = qiskit.QuantumCircuit(6, 3)\n",
        "\n",
        "superdense.h(0)\n",
        "superdense.cx(0,1)\n",
        "\n",
        "superdense.h(2)\n",
        "superdense.cx(2,3)\n",
        "\n",
        "superdense.h(4)\n",
        "superdense.cx(4,5)\n",
        "\n",
        "superdense.measure(0, 0)\n",
        "superdense.measure(2, 1)\n",
        "superdense.measure(4, 2)\n",
        "\n",
        "superdense.draw()"
      ]
    },
    {
      "cell_type": "code",
      "execution_count": null,
      "metadata": {
        "id": "i0n1zesSvysB"
      },
      "outputs": [],
      "source": [
        "# Creates an entangled view of 3 future cards without using loops\n",
        "see_the_future_program = \"\"\"\n",
        "          OPENQASM 2.0;\n",
        "          include \"qelib1.inc\";\n",
        "\n",
        "          // Create 3 pairs of entangled qubits (6 total)\n",
        "          qreg q[6];\n",
        "          creg c[3];\n",
        "\n",
        "          // Entangle first pair (Card 1)\n",
        "          h q[0];\n",
        "          cx q[0], q[1];\n",
        "\n",
        "          // Entangle second pair (Card 2)\n",
        "          h q[2];\n",
        "          cx q[2], q[3];\n",
        "\n",
        "          // Entangle third pair (Card 3)\n",
        "          h q[4];\n",
        "          cx q[4], q[5];\n",
        "\n",
        "          // Measure the first of each pair\n",
        "          measure q[0] -> c[0];\n",
        "          measure q[2] -> c[1];\n",
        "          measure q[4] -> c[2];\n",
        "          \"\"\"\n",
        "\n",
        "def see_the_future(deck, results=send_to_quokka(see_the_future_program, count=1)):\n",
        "    print(\"\\n=== Quantum See the Future🔮 ===\")\n",
        "    print(\"You see entangled glimpses of future cards:\")\n",
        "\n",
        "    for i in range(3): # Loops to collect the first 3 card of the deck\n",
        "        if i >= len(deck):\n",
        "            print(f\"Card {i+1}: No card (deck too small)\") # If the deck has no card left\n",
        "            continue\n",
        "\n",
        "        result_bit = results[0][i] # Collect the int from the result\n",
        "        card = deck[i]\n",
        "\n",
        "        print(f\"Card {i+1}: {card}\") # Return the card observed\n",
        "\n",
        "        # Entanglement effect - 40% chance prediction affects reality - the lower the safer, no need to thank me!\n",
        "        if quantum_random_number(10) > 6:\n",
        "          if result_bit == 1:\n",
        "              print(\"  Quantum fluctuation! Card morphs into Exploding Quokkas💥🐹!\")\n",
        "              deck[i] = \"Exploding Quokkas💥🐹\"\n",
        "          elif result_bit == 0:\n",
        "              print(\"  Quantum fluctuation! Card becomes Defuse🛠️ card!\")\n",
        "              deck[i] = \"Defuse🛠️\"\n",
        "    print()"
      ]
    },
    {
      "cell_type": "markdown",
      "metadata": {
        "id": "cgonwSawMcoy"
      },
      "source": [
        "##Building the Deck ♣️"
      ]
    },
    {
      "cell_type": "code",
      "execution_count": null,
      "metadata": {
        "id": "m0X8PN_UW3CG"
      },
      "outputs": [],
      "source": [
        "original_deck = [ # The original deck with 32 cards\n",
        "    'Exploding Quokkas💥🐹',\n",
        "    '''Schrödinger's Quokka🐹📦❓''', '''Schrödinger's Quokka🐹📦❓''',\n",
        "    'Defuse🛠️', 'Defuse🛠️', 'Defuse🛠️',\n",
        "    'Drop Bear😡🐨', 'Drop Bear😡🐨',\n",
        "    'Skip➡️', 'Skip➡️', 'Skip➡️',\n",
        "    'Pretty Pleasee🥺', 'Pretty Pleasee🥺', 'Pretty Pleasee🥺',\n",
        "    'See the Future👀', 'See the Future👀', 'See the Future👀',\n",
        "    'Shuffle🔀', 'Shuffle🔀',\n",
        "    'Nope🛑', 'Nope🛑', 'Nope🛑',\n",
        "    'Quokkamelon🐹🍉', 'Quokkamelon🐹🍉', 'Quokkamelon🐹🍉', 'Quokkamelon🐹🍉',\n",
        "    'Quokka-dile🐹🐊', 'Quokka-dile🐹🐊',\n",
        "    'Happy Smiling Quokka🐹🐹', 'Happy Smiling Quokka🐹🐹', 'Happy Smiling Quokka🐹🐹', 'Happy Smiling Quokka🐹🐹'\n",
        "    ]"
      ]
    },
    {
      "cell_type": "markdown",
      "metadata": {
        "id": "TakdOs7vdyIZ"
      },
      "source": [
        "##Shuffle quantumly 🔃"
      ]
    },
    {
      "cell_type": "markdown",
      "metadata": {
        "id": "2SWQZ6swrOZX"
      },
      "source": [
        "This is a shuffle function that dynamically shuffle the deck based on how many cards are left. To do this, the program will receive the deck, determine it's length and shuffle accordingly.\n",
        "1. The $H$-gate is applied to every qubits. Once again to create superposition among the cards.\n",
        "2. The $CNOT$ gate is applied to every qubits and the qubits after.\n",
        "3. Every single qubit is then measured.\n",
        "\n",
        "Once measured, we will have a list of classical bits. Let's dive into the code for a more hands-on explaination💻!"
      ]
    },
    {
      "cell_type": "code",
      "execution_count": null,
      "metadata": {
        "id": "wI8j0ojBd7RX"
      },
      "outputs": [],
      "source": [
        "def quantum_shuffle(deck):\n",
        "    if len(deck) <= 1:\n",
        "        return deck.copy()  # No need to shuffle single card\n",
        "\n",
        "    # Dynamic qubit calculation (minimum 2 qubits)\n",
        "    num_qubits = max(2, (len(deck)-1).bit_length())\n",
        "\n",
        "    # Generate quantum random indices\n",
        "    qasm_code = f\"\"\"OPENQASM 2.0;\n",
        "                include \"qelib1.inc\";\n",
        "                qreg q[{num_qubits}];\n",
        "                creg c[{num_qubits}];\n",
        "                \"\"\"\n",
        "    # Create full superposition\n",
        "    for qubit in range(num_qubits):\n",
        "        qasm_code += f\"h q[{qubit}];\\n\"\n",
        "\n",
        "    # Add entanglement for better randomness\n",
        "    for qubit in range(num_qubits-1):\n",
        "        qasm_code += f\"cx q[{qubit}], q[{qubit+1}];\\n\"\n",
        "\n",
        "    # Measurement\n",
        "    for qubit in range(num_qubits):\n",
        "        qasm_code += f\"measure q[{qubit}] -> c[{qubit}];\\n\"\n",
        "\n",
        "    # Get quantum results\n",
        "\n",
        "    results = send_to_quokka (qasm_code, count=len(deck)*2)\n",
        "\n",
        "    # Process results into unique indices\n",
        "    shuffled_deck = []\n",
        "    seen_indices = set()\n",
        "\n",
        "# Iterate through each binary result string in the results list\n",
        "    for res in results:\n",
        "        try:\n",
        "            # Convert the binary string to an integer index\n",
        "            # Example: res = \"101\" (binary) -> idx = 5 (decimal)\n",
        "            idx = int(res, 2) % len(deck)  # Use modulo to ensure index stays within deck bounds\n",
        "\n",
        "            # Only process if we haven't used this index before (avoid duplicates)\n",
        "            if idx not in seen_indices:\n",
        "                # Add the card at this index to the shuffled deck\n",
        "                shuffled_deck.append(deck[idx])\n",
        "\n",
        "                # Record this index as used\n",
        "                seen_indices.add(idx)\n",
        "\n",
        "                # Early exit if we've shuffled all cards\n",
        "                if len(shuffled_deck) == len(deck):\n",
        "                    break\n",
        "\n",
        "        except (ValueError, TypeError):\n",
        "            # Skip any malformed results that can't be converted to binary\n",
        "            # (e.g., empty strings or non-binary characters)\n",
        "            continue\n",
        "\n",
        "    # If we didn't get enough unique indices, fill the rest randomly\n",
        "    if len(shuffled_deck) < len(deck):\n",
        "        remaining = [card for i, card in enumerate(deck) if i not in seen_indices]\n",
        "        random.shuffle(remaining)\n",
        "        shuffled_deck += remaining\n",
        "\n",
        "    return shuffled_deck"
      ]
    },
    {
      "cell_type": "code",
      "execution_count": null,
      "metadata": {
        "colab": {
          "base_uri": "https://localhost:8080/"
        },
        "id": "X0zYaGpzdfaQ",
        "outputId": "69ccc3f7-3c8e-419d-ee74-90cc57ba18a5"
      },
      "outputs": [
        {
          "name": "stdout",
          "output_type": "stream",
          "text": [
            "['Shuffle🔀', 'Nope🛑', 'Nope🛑', 'See the Future👀', 'Pretty Pleasee🥺', 'Skip➡️', 'Happy Smiling Quokka🐹🐹', 'Quokkamelon🐹🍉', 'Exploding Quokkas💥🐹', 'Happy Smiling Quokka🐹🐹', 'Quokkamelon🐹🍉', 'Defuse🛠️', \"Schrödinger's Quokka🐹📦❓\", 'See the Future👀', 'Defuse🛠️', 'Happy Smiling Quokka🐹🐹', \"Schrödinger's Quokka🐹📦❓\", 'Happy Smiling Quokka🐹🐹', 'Pretty Pleasee🥺', 'Skip➡️', 'Quokka-dile🐹🐊', 'Nope🛑', 'Shuffle🔀', 'Drop Bear😡🐨', 'Skip➡️', 'See the Future👀', 'Pretty Pleasee🥺', 'Quokka-dile🐹🐊', 'Defuse🛠️', 'Quokkamelon🐹🍉', 'Drop Bear😡🐨', 'Quokkamelon🐹🍉']\n"
          ]
        }
      ],
      "source": [
        "# A little test\n",
        "test_deck = original_deck.copy()\n",
        "shuffled_deck = quantum_shuffle(test_deck)\n",
        "print(shuffled_deck)"
      ]
    },
    {
      "cell_type": "markdown",
      "metadata": {
        "id": "hV_pKYmxi4if"
      },
      "source": [
        "## Initiate the game 🚀"
      ]
    },
    {
      "cell_type": "code",
      "execution_count": null,
      "metadata": {
        "id": "ngLa7pxmUwUy"
      },
      "outputs": [],
      "source": [
        "class Player: # Using class allows storing the hand and the name of players, which will be much more convinient later\n",
        "  def __init__(self, name, hand=None):\n",
        "      self.name = name\n",
        "      self.hand = hand if hand is not None else [] # This allows to initialized the player even if there's no hand\n",
        "\n",
        "player1 = Player(\"Player 1\") # You will be player 1\n",
        "an = Player(\"An\") # The opponent is an AI named \"An\""
      ]
    },
    {
      "cell_type": "code",
      "execution_count": null,
      "metadata": {
        "id": "jwY4mW_oOPzB"
      },
      "outputs": [],
      "source": [
        "def get_other_player(player): # A function to get other player from the current player, very nice to use\n",
        "  if player == player1:\n",
        "    return an\n",
        "  else:\n",
        "    return player1"
      ]
    },
    {
      "cell_type": "code",
      "execution_count": null,
      "metadata": {
        "id": "kg49VMhbi-OR"
      },
      "outputs": [],
      "source": [
        "def initiate_the_game():\n",
        "    player1.hand = []\n",
        "    an.hand = []\n",
        "    cards_to_remove = [ # At the begining of the game, players cannot have an Explosive card, or the game just end straight away :(\n",
        "        'Exploding Quokkas💥🐹',\n",
        "        'Schrödinger\\'s Quokka🐹📦❓',\n",
        "        'Schrödinger\\'s Quokka🐹📦❓'\n",
        "    ]\n",
        "\n",
        "    # Create starting deck by removing specified cards\n",
        "    starting_deck = [card for card in original_deck.copy() if card not in cards_to_remove]\n",
        "\n",
        "    # Quantum shuffle the deck\n",
        "    starting_deck = quantum_shuffle(starting_deck)\n",
        "\n",
        "    # Deal cards alternately to players\n",
        "    for i in range(16):  # Deal 16 cards total (8 to each player)\n",
        "        if i % 2 == 0:  # Even indices to player 1\n",
        "          player1.hand.append(starting_deck[i])\n",
        "        else:           # Odd indices to player 2\n",
        "            an.hand.append(starting_deck[i])\n",
        "\n",
        "    # Create game deck with remaining cards plus removed cards\n",
        "    game_deck = [card for card in starting_deck[16:]]  # Cards not dealt to players\n",
        "    game_deck.extend(cards_to_remove)  # Add back the removed special cards\n",
        "\n",
        "    # Quantum shuffle the game deck one more time\n",
        "    game_deck = quantum_shuffle(game_deck)\n",
        "    return game_deck"
      ]
    },
    {
      "cell_type": "markdown",
      "metadata": {
        "id": "o1dofk1ZeHlV"
      },
      "source": [
        "## The \"AI\" 🤖"
      ]
    },
    {
      "cell_type": "markdown",
      "metadata": {
        "id": "SJc3T97UuYyh"
      },
      "source": [
        "Since I wholeheartedly believe in human as a superior race, I will make this AI as low IQ as possible (definitely not because of my skill issues😉).\n",
        "\n",
        "This AI named \"An\" will be trained to play as randomly as possible (using quantum computer). Does this make this AI a QI (Quantum Intellegent)🤔🤔."
      ]
    },
    {
      "cell_type": "code",
      "execution_count": null,
      "metadata": {
        "id": "Vt5vsKDmePTb"
      },
      "outputs": [],
      "source": [
        "def ai_nope(card_played, game_over): # Function for the AI to play the card Nope or the Schrödinger's Quokka\n",
        "# Cannot play Nope or Schrödinger's Quokka if player only have one of this card, it not gonna work anyways\n",
        "  if card_played in ['Quokkamelon🐹🍉', 'Happy Smiling Quokka🐹🐹'] and player1.hand.count(card_played) >= 2:\n",
        "    pass\n",
        "  else:\n",
        "    return False\n",
        "  if 'Nope🛑' in an.hand: # Only play Nope if has Nope\n",
        "    if quantum_random_number(3) == 2: # A chance of 1 out of 3 to play Nope, which I think it's fair\n",
        "      print('Drama❗ An played Nope🛑.')\n",
        "      an.hand.remove('Nope🛑')\n",
        "      return True\n",
        "    else:\n",
        "      if 'Schrödinger\\'s Quokka🐹📦❓' in player1.hand: # Only play Schrödinger's Quokka if has Nope was not played and the AI has that card\n",
        "        # A chance of 1 out of 4 to play Schrödinger's Quokka, AI gotta be careful too\n",
        "        if quantum_random_number(4) == 2:\n",
        "          print('How bold❗ An played Schrödinger\\'s Quokka🐹📦❓')\n",
        "          final_state = schrodingers_quokka() # Just the *unexpected* behaviour of the card\n",
        "          if final_state == 'Explosion':\n",
        "            if 'Defuse🛠️' in an.hand: # The Defuse card suprisingly defuse the explosion\n",
        "              an.hand.remove('Defuse🛠️')\n",
        "              print('Pheww! An succefully defused the bomb! That was close!')\n",
        "              an.hand.remove('Schrödinger\\'s Quokka🐹📦❓')\n",
        "            else:\n",
        "              print('💥 BOOOM! QUOKKAS EXPLOSION! ' + player1.name + ' wins!')\n",
        "              game_over = True\n",
        "          else:\n",
        "            return True\n",
        "      else:\n",
        "        return False\n",
        "  else:\n",
        "      return False"
      ]
    },
    {
      "cell_type": "markdown",
      "metadata": {
        "id": "9ldDWLz7w7V0"
      },
      "source": [
        "## How playing the cards behave 👾"
      ]
    },
    {
      "cell_type": "code",
      "execution_count": null,
      "metadata": {
        "id": "Pg918xSA1RfB"
      },
      "outputs": [],
      "source": [
        "# Apologies for the long if else lol\n",
        "# This function is to handle how each card is played\n",
        "def card_play(player, card, noped, turn, game_deck):\n",
        "  if player == player1: # An won't speak much, it's a under-deverloped AI. Plus, no cheating!\n",
        "    if card in ['Quokkamelon🐹🍉', 'Happy Smiling Quokka🐹🐹'] and player.hand.count(card) >= 2:\n",
        "      print(f\"{player.name} plays 2x {card}.\") # For the case of these 2 cards, they are only valid if both of the same kind are played\n",
        "    else:\n",
        "      print(f\"{player.name} plays {card}.\")\n",
        "\n",
        "  if noped == True: # If player got noped, then the card action will be cancel\n",
        "    player.hand.remove(card)\n",
        "    print('🛑 ' + player.name + ' just got NOPE-D! Cancel the current card!')\n",
        "    return True\n",
        "\n",
        "  if card == 'Drop Bear😡🐨':\n",
        "    no_card_to_draw = drop_bear()\n",
        "    for i in range(0, no_card_to_draw):\n",
        "      get_other_player(player).hand.append(game_deck[i])\n",
        "      if player == an:\n",
        "        print(get_other_player(player).name + ' has drawn ' + game_deck[i]) # If its An's turn, then you will draws the card and see them.\n",
        "      game_deck.remove(game_deck[i])\n",
        "    player.hand.remove('Drop Bear😡🐨')\n",
        "    if player == player1:\n",
        "      # If its your turn, An will draw the card, but you will only know how many wasa drawn!\n",
        "      print(get_other_player(player).name + ' has drawn ' + str(no_card_to_draw) +' card(s).')\n",
        "    return True\n",
        "\n",
        "  if card == 'Skip➡️': # Skip action will be implemented later\n",
        "    player.hand.remove('Skip➡️')\n",
        "    return True\n",
        "\n",
        "  if card == 'Pretty Pleasee🥺':\n",
        "    favor(player, get_other_player(player))\n",
        "    player.hand.remove('Pretty Pleasee🥺')\n",
        "    return True\n",
        "\n",
        "  if card == 'See the Future👀':\n",
        "    player.hand.remove('See the Future👀')\n",
        "    if player == player1: # This only applies to you, you cannot see what the AI sees, that's cheating!\n",
        "      see_the_future(game_deck)\n",
        "    return True\n",
        "\n",
        "  if card == 'Shuffle🔀':\n",
        "    game_deck = quantum_shuffle(game_deck)\n",
        "    print(\"🌀 Whoosh! The quantum gnomes have rearranged the game deck!\")\n",
        "    player.hand.remove('Shuffle🔀')\n",
        "    return True\n",
        "\n",
        "  if card == 'Quokkamelon🐹🍉':\n",
        "    if player.hand.count('Quokkamelon🐹🍉') >= 2: # This card ability will only work if both of same kind are played\n",
        "      to_be_stolen = get_other_player(player).hand[quantum_random_number(len(get_other_player(player).hand)) - 1] # Get the card from other player randomly\n",
        "      player.hand.append(to_be_stolen) # Steal the card\n",
        "      get_other_player(player).hand.remove(to_be_stolen) # The other player lose card\n",
        "      print('You cheecky! ' + player.name + ' has stole ' + to_be_stolen + ' from ' + get_other_player(player).name + '!')\n",
        "      player.hand.remove('Quokkamelon🐹🍉')\n",
        "      player.hand.remove('Quokkamelon🐹🍉')\n",
        "      return True\n",
        "    else:\n",
        "      print('You need another Quokkamelon🐹🍉 to activate its ability.') # Remind player that they need to play 2 of the same kind\n",
        "      return False\n",
        "\n",
        "  if card == 'Quokka-dile🐹🐊':\n",
        "    player.hand.remove('Quokka-dile🐹🐊')\n",
        "    print('🐊Chomp chomp! You have swapped hand with An!')\n",
        "    temp = player.hand # Swap hand between the 2 players\n",
        "    player.hand = get_other_player(player).hand\n",
        "    get_other_player(player).hand = temp\n",
        "    return True\n",
        "\n",
        "  if card == 'Happy Smiling Quokka🐹🐹': # Same case as above (Quokkamelon)\n",
        "    if player.hand.count('Happy Smiling Quokka🐹🐹') >= 2:\n",
        "      to_be_stolen = get_other_player(player).hand[quantum_random_number(len(get_other_player(player).hand)) - 1]\n",
        "      player.hand.append(to_be_stolen)\n",
        "      get_other_player(player).hand.remove(to_be_stolen)\n",
        "      print('You cheecky! ' + player.name + ' has stole ' + to_be_stolen + ' from ' + get_other_player(player).name + '!')\n",
        "      player.hand.remove('Happy Smiling Quokka🐹🐹')\n",
        "      player.hand.remove('Happy Smiling Quokka🐹🐹')\n",
        "      return True\n",
        "    else:\n",
        "      print('You need another Happy Smiling Quokka🐹🐹 to activate its ability.')\n",
        "      return False\n",
        "\n",
        "  # For the last 3 cards, they can only be played during the other player's turn\n",
        "  # Also gotta remind the player\n",
        "  if card == 'Schrödinger\\'s Quokka🐹📦❓':\n",
        "    if player == player1 and turn % 2 == 0:\n",
        "      print(card + ' can only be played during your opponent\\'s turn.')\n",
        "      return False\n",
        "\n",
        "    if player == an and turn % 2 == 1:\n",
        "      return False\n",
        "\n",
        "  if card == 'Nope🛑':\n",
        "    if player == player1 and turn % 2 == 0:\n",
        "      print(card + ' can only be played during your opponent\\'s turn.')\n",
        "      return False\n",
        "\n",
        "    if player == an and turn % 2 == 1:\n",
        "      return False\n",
        "\n",
        "  if card == 'Defuse🛠️':\n",
        "    if player == player1 and turn % 2 == 0:\n",
        "      print(card + ' can only be played during your opponent\\'s turn.')\n",
        "      return False\n",
        "\n",
        "    if player == an and turn % 2 == 1:\n",
        "      return False\n",
        "\n",
        "  return False # This function return True - the play is valid or False - the play is not valid, play again\n"
      ]
    },
    {
      "cell_type": "markdown",
      "metadata": {
        "id": "vJ-sJFqdqLiP"
      },
      "source": [
        "## How drawing the cards behave 👾"
      ]
    },
    {
      "cell_type": "code",
      "execution_count": null,
      "metadata": {
        "id": "YU_f8Vd0KVFy"
      },
      "outputs": [],
      "source": [
        "# I am so so sorry... again\n",
        "# This function is to handle how each card is draw\n",
        "def card_draw(player, game_deck, game_over, card_played, nope_or_not):\n",
        "  # If was previously NOPED, player's Skip function would not work\n",
        "\n",
        "  # If the player don't previously play Skip, they have to draw\n",
        "  # Otherwise, you will draw annoucingly\n",
        "  if card_played != 'Skip➡️' and player == player1:\n",
        "    print(player.name + ' just drew ' + game_deck[0] + '!')\n",
        "\n",
        "  # Same goes for An, just quietly, please don't cheat!\n",
        "  if card_played != 'Skip➡️' and player == an:\n",
        "    print(player.name + ' just drew 1 card from the deck!')\n",
        "\n",
        "  # If the player previously play Skip, they don't have to draw\n",
        "  if card_played == 'Skip➡️' and nope_or_not == False:\n",
        "    pass\n",
        "\n",
        "  if game_deck[0] == 'Exploding Quokkas💥🐹' and card_played != 'Skip➡️':\n",
        "    print('OH NO 😱😱')\n",
        "    if 'Defuse🛠️' in player.hand:\n",
        "      player.hand.remove('Defuse🛠️')\n",
        "      print('Pheww! ' + player.name + ' succefully defused the bomb! That was close!')\n",
        "\n",
        "      explosion_position = 0\n",
        "      if player == player1:\n",
        "        while explosion_position not in range(1, len(game_deck)): # If successfully Defused, you can place the Explosive card anywhere in the deck\n",
        "          explosion_position = int(input('Now you can choose where to place the Exploding Quokka (Pick a number 1-' + str(len(game_deck)) + ')\\n> '))\n",
        "\n",
        "      if player == an: # An will quietly choose the position to put the Exploding card back\n",
        "        explosion_position = quantum_random_number(len(game_deck))\n",
        "      game_deck.insert(int(explosion_position) - 1, 'Exploding Quokkas💥🐹')\n",
        "      game_deck.remove(game_deck[0])\n",
        "\n",
        "    else:\n",
        "      print('💥 BOOOM! QUOKKAS EXPLOSION! ' + get_other_player(player).name + ' wins!')\n",
        "      game_over = True\n",
        "\n",
        "  elif game_deck[0] == 'Schrödinger\\'s Quokka🐹📦❓' and player == player1 and card_played != 'Skip➡️':\n",
        "    open_the_box = input('Do you want to open the box and activate Schrödinger\\'s Quokka🐹📦❓ now? (y/n)\\n> ') # Prompt question once drew this dangerous card\n",
        "    while open_the_box not in ['y', 'n']:\n",
        "      print('Invalid option. Please choose again!')\n",
        "      open_the_box = input('Do you want to open the box and activate Schrödinger\\'s Quokka🐹📦❓ now? (y/n)\\n> ')\n",
        "\n",
        "    if open_the_box == 'n': # If the player decide not to open the Schrödinger box right away, they will draw this card\n",
        "      player.hand.append(game_deck[0])\n",
        "      game_deck.remove(game_deck[0])\n",
        "\n",
        "    elif open_the_box == 'y':\n",
        "      final_state = schrodingers_quokka()\n",
        "      if final_state == 'Explosion': # Again just how the card behave\n",
        "        if 'Defuse🛠️' in player.hand:\n",
        "          game_deck.remove(game_deck[0])\n",
        "          player.hand.remove('Defuse🛠️')\n",
        "          print('Pheww! '+ player.name + ' succefully defused the bomb! That was close!')\n",
        "          game_over = False\n",
        "        else:\n",
        "          print('💥 BOOOM! QUOKKAS EXPLOSION! ' + get_other_player(player).name + ' wins!')\n",
        "          game_over = True\n",
        "      else:\n",
        "        player.hand.append('Nope🛑')\n",
        "        game_deck.remove(game_deck[0])\n",
        "\n",
        "  elif game_deck[0] == 'Schrödinger\\'s Quokka🐹📦❓' and player == an and card_played != 'Skip➡️':\n",
        "    ai_choice = quantum_random_number(10)\n",
        "    if ai_choice > 6:\n",
        "      print('Hold on❗ An opens Schrödinger\\'s Quokka🐹📦❓ right away?')\n",
        "      open_the_box = 'y'\n",
        "    else:\n",
        "      open_the_box = 'n'\n",
        "\n",
        "    if open_the_box == 'n': # If the player decide not to open the Schrödinger box right away, they will draw this card\n",
        "      player.hand.append(game_deck[0])\n",
        "      game_deck.remove(game_deck[0])\n",
        "\n",
        "    elif open_the_box == 'y':\n",
        "      final_state = schrodingers_quokka()\n",
        "      if final_state == 'Explosion': # Again just how the card behave\n",
        "        if 'Defuse🛠️' in player.hand:\n",
        "          game_deck.remove(game_deck[0])\n",
        "          player.hand.remove('Defuse🛠️')\n",
        "          print('Pheww! '+ player.name + ' succefully defused the bomb! That was close!')\n",
        "          game_over = False\n",
        "        else:\n",
        "          print('💥 BOOOM! QUOKKAS EXPLOSION! ' + get_other_player(player).name + ' wins!')\n",
        "          game_over = True\n",
        "      else:\n",
        "        player.hand.append('Nope🛑')\n",
        "        game_deck.remove(game_deck[0])\n",
        "\n",
        "  elif card_played != 'Skip➡️':\n",
        "    player.hand.append(game_deck[0]) # Else, just draw the card\n",
        "    game_deck.remove(game_deck[0])\n",
        "\n",
        "  return game_over # Since you can potentially draw the Explosive card, this function will determine if you win or lose"
      ]
    },
    {
      "cell_type": "markdown",
      "metadata": {
        "id": "3F8YbyLyqNop"
      },
      "source": [
        "## The whole gameplay 👾"
      ]
    },
    {
      "cell_type": "code",
      "execution_count": null,
      "metadata": {
        "id": "WrC4KB4xxUZX"
      },
      "outputs": [],
      "source": [
        "# Once again, I sincerely apology for the atrocious if-elses\n",
        "# This is the function for the entire gameplay\n",
        "def play_the_card(game_over, game_deck):\n",
        "  turn = 0 # Initialize the turn\n",
        "\n",
        "  # Play on if the game is not over\n",
        "  while (game_over == False):\n",
        "    if turn % 2 == 0: # Your turn\n",
        "      player1.hand = sorted(player1.hand)\n",
        "      print('Card(s) left in the deck: ' + str(len(game_deck))) # Print the len(deck)\n",
        "\n",
        "      print(\"Your deck:\", end=' ') # Print out your hand\n",
        "      for i, card in enumerate(player1.hand, start=1):\n",
        "       print(f\"{i}. {card}\", end = ', ')\n",
        "\n",
        "      response = input('Your turn. Please play a card (Pick a number 1-' + str(len(player1.hand)) + '. Or \\'m\\' for manual).\\n> ') # Prompt the player to play a card\n",
        "      if response == 'm': manual() # 'm' is to view the manual again\n",
        "      if response.isdigit(): # Proceed if the response is digit\n",
        "        response = int(response)\n",
        "        card_played = player1.hand[response - 1] # Get the card that the player played\n",
        "        if response in range(1, len(player1.hand) + 1):\n",
        "          if card_play(player1, card_played, ai_nope(card_played, game_over), turn, game_deck) == True: # If the player plays the card validly\n",
        "            turn += 1 # Increase the turn to move\n",
        "            game_over = card_draw(player1, game_deck, game_over, card_played, ai_nope) # See if the game is over or not\n",
        "        else:\n",
        "          print('Invalid option. Please choose again!') # If input a number not in the range of your hand, you will be prompted again\n",
        "      else:\n",
        "        print('Invalid option. Please choose again!') # If input an invalid char, you will be prompted again\n",
        "\n",
        "    elif turn % 2 == 1: # The AI's turn\n",
        "      valid_card = False # Initialize the valid_card for the AI\n",
        "      print('\\nAn is taking its time🤖...')\n",
        "      while valid_card == False: # Until the AI choose a valid card, then proceed\n",
        "          card_index = quantum_random_number(len(an.hand))\n",
        "          print(\"beep boop\") # Waiting menu\n",
        "\n",
        "          ai_card_played = an.hand[card_index - 1] # Get the card that the AI plays\n",
        "\n",
        "          # AI will not play these card if do not have 2 of the same kind\n",
        "          if ai_card_played in ['Quokkamelon🐹🍉', 'Happy Smiling Quokka🐹🐹'] and an.hand.count(ai_card_played) >= 2:\n",
        "              valid_card = True\n",
        "              print(f\"An plays 2x {ai_card_played}.\")\n",
        "              turn += 1\n",
        "              break\n",
        "\n",
        "          # AI cannot play these cards in its turn, only in your turn\n",
        "          # The list also contain Quokkamelon and Happy Smiling Quokka to prevent play a single of this kind\n",
        "          elif ai_card_played not in ['Quokkamelon🐹🍉', 'Happy Smiling Quokka🐹🐹', 'Nope🛑', 'Schrödinger\\'s Quokka🐹📦❓', 'Defuse🛠️']:\n",
        "              valid_card = True\n",
        "              print(f\"An plays {ai_card_played}.\")\n",
        "              turn += 1\n",
        "              break\n",
        "\n",
        "      if 'Nope🛑' in player1.hand: # If you have Nope, you can play it against the AI\n",
        "        print()\n",
        "\n",
        "        print(\"Your deck:\", end=' ') # Print out your hand\n",
        "        for i, card in enumerate(player1.hand, start=1):\n",
        "          print(f\"{i}. {card}\", end = ', ')\n",
        "\n",
        "        player_nope = input('Do you want to use the Nope🛑 card? (y/n)\\n> ')\n",
        "        while player_nope not in ['y', 'n']:\n",
        "          print('Invalid option. Please choose again!')\n",
        "          player_nope = input('Do you want to use the Nope🛑 card? (y/n)\\n> ')\n",
        "\n",
        "        if player_nope == 'y': # You decided to play Nope\n",
        "          player1.hand.remove('Nope🛑')\n",
        "          card_play(an, ai_card_played, True, turn, game_deck) # The AI card will not have any effect\n",
        "          game_over = card_draw(an, game_deck, game_over, ai_card_played, True)\n",
        "\n",
        "        elif player_nope == 'n' and 'Schrödinger\\'s Quokka🐹📦❓' not in player1.hand: # You decided not to play Nope and don't have the Schrödinger's Quokka\n",
        "          card_play(an, ai_card_played, False, turn, game_deck)\n",
        "          game_over = card_draw(an, game_deck, game_over, ai_card_played, False)\n",
        "\n",
        "        elif 'Schrödinger\\'s Quokka🐹📦❓' in player1.hand: # You decided not to play Nope and have the Schrödinger's Quokka\n",
        "          print()\n",
        "\n",
        "          print(\"Your deck:\", end=' ') # Print out your hand\n",
        "          for i, card in enumerate(player1.hand, start=1):\n",
        "            print(f\"{i}. {card}\", end = ', ')\n",
        "\n",
        "          player_nope = input('Do you want to use the Schrödinger\\'s Quokka🐹📦❓ card? Please proceed with caution.(y/n)\\n> ')\n",
        "          while player_nope not in ['y', 'n']:\n",
        "            print('Invalid option. Please choose again!')\n",
        "            player_nope = input('Do you want to use the Schrödinger\\'s Quokka🐹📦❓ card? Please proceed with caution.(y/n)\\n> ')\n",
        "\n",
        "          if player_nope == 'n': # You choose not to play any card that can Nope your opponent\n",
        "            card_play(an, ai_card_played, False, turn, game_deck)\n",
        "            game_over = card_draw(an, game_deck, game_over, ai_card_played, False)\n",
        "\n",
        "          elif player_nope == 'y': # You choose to open the Schrödinger box\n",
        "            final_state = schrodingers_quokka()\n",
        "            if final_state == 'Explosion':\n",
        "              if 'Defuse🛠️' not in player1.hand:\n",
        "                print('💥 BOOOM! QUOKKAS EXPLOSION! ' + an.name + ' wins!')\n",
        "                game_over = True\n",
        "              else:\n",
        "                player1.hand.remove('Defuse🛠️')\n",
        "                print('Pheww! ' + player1.name + ' succefully defused the bomb! That was close!')\n",
        "                player1.hand.remove('Schrödinger\\'s Quokka🐹📦❓')\n",
        "                game_over = card_draw(an, game_deck, game_over, ai_card_played, False)\n",
        "\n",
        "            else: # The Schrödinger Quokka turns into a Nope card\n",
        "              card_play(an, ai_card_played, True, turn, game_deck)\n",
        "              game_over = card_draw(an, game_deck, game_over, ai_card_played, True)\n",
        "              player1.hand.remove('Schrödinger\\'s Quokka🐹📦❓')\n",
        "\n",
        "      else: # If you don't have a Nope card\n",
        "        if 'Schrödinger\\'s Quokka🐹📦❓' in player1.hand: # You have the Schrödinger's Quokka\n",
        "            print()\n",
        "            print(player1.hand)\n",
        "            player_nope = input('Do you want to use the Schrödinger\\'s Quokka🐹📦❓ card? Please proceed with caution.(y/n)\\n> ')\n",
        "            while player_nope not in ['y', 'n']:\n",
        "              print('Invalid option. Please choose again!')\n",
        "              player_nope = input('Do you want to use the Schrödinger\\'s Quokka🐹📦❓ card? Please proceed with caution.(y/n)\\n> ')\n",
        "\n",
        "            if player_nope == 'n': # You choose not to play Schrödinger's Quokka\n",
        "              card_play(an, ai_card_played, False, turn, game_deck)\n",
        "              game_over = card_draw(an, game_deck, game_over, ai_card_played, False)\n",
        "\n",
        "            elif player_nope == 'y': # You choose to open the Schrödinger box\n",
        "              final_state = schrodingers_quokka()\n",
        "              if final_state == 'Explosion':\n",
        "                if 'Defuse🛠️' not in player1.hand:\n",
        "                  print('💥 BOOOM! QUOKKAS EXPLOSION! ' + an.name + ' wins!')\n",
        "                  game_over = True\n",
        "                else:\n",
        "                  player1.hand.remove('Defuse🛠️')\n",
        "                  print('Pheww! ' + player1.name + ' succefully defused the bomb! That was close!')\n",
        "                  player1.hand.remove('Schrödinger\\'s Quokka🐹📦❓')\n",
        "                  game_over = card_draw(an, game_deck, game_over, ai_card_played, False)\n",
        "\n",
        "              else: # The Schrödinger Quokka turns into a Nope card\n",
        "                card_play(an, ai_card_played, True, turn, game_deck)\n",
        "                player1.hand.remove('Schrödinger\\'s Quokka🐹📦❓')\n",
        "                game_over = card_draw(an, game_deck, game_over, ai_card_played, True)\n",
        "\n",
        "        else: # You don't have the Schrödinger's Quokka\n",
        "          card_play(an, ai_card_played, False, turn, game_deck)\n",
        "          game_over = card_draw(an, game_deck, game_over, ai_card_played, False) # The AI gotta draw cards too\n",
        "\n",
        "  if len(game_deck) == 0: # When there's no card left in the deck, whoever's turn its to draw will lose\n",
        "    game_over = True\n",
        "  return game_over"
      ]
    },
    {
      "cell_type": "markdown",
      "metadata": {
        "id": "sAFgCRajqgi0"
      },
      "source": [
        "## Almost there..."
      ]
    },
    {
      "cell_type": "code",
      "execution_count": null,
      "metadata": {
        "id": "K2uhiVE6qgIO"
      },
      "outputs": [],
      "source": [
        "# The function to put it all together\n",
        "def play_game():\n",
        "  print('Welcome to a game of Exploding Quokkas!')\n",
        "\n",
        "  # Get the valid respond, don't let the player get away!!\n",
        "  while True:\n",
        "      game_type = input('1: Start the game \\n2: Quit the game \\n> ')\n",
        "\n",
        "      if game_type in ['1', '2']:\n",
        "          break\n",
        "      else:\n",
        "          print('Invalid option. Please choose again!')\n",
        "\n",
        "  # The game starts\n",
        "  if game_type == '1':\n",
        "      game_over = False # Set game_over to False because it's not over yet\n",
        "      print(\"Starting an epic game of Exploding Quokkas...\")\n",
        "      game_deck = initiate_the_game() # Shuffle and give the cards to players\n",
        "      print(\"Card dealt✅\")\n",
        "      print(\"An-AI booted✅\")\n",
        "      print(\"Let\\'s begin!\")\n",
        "      print()\n",
        "      while game_over == False: # Keep playing until the game is over\n",
        "        game_over = play_the_card(game_over, game_deck)\n",
        "  elif game_type == '2':\n",
        "      print(\"Goodbye!\")"
      ]
    },
    {
      "cell_type": "markdown",
      "metadata": {
        "id": "FrZu3FhwaDTr"
      },
      "source": [
        "<a name=\"play\"></a>\n",
        "# Let's play Exploding Quokkas 🎮\n",
        "**Pro Tip:** Park your cursor in the cell below so that the notebook won't jump up and down like crazy😉!\n",
        "\n"
      ]
    },
    {
      "cell_type": "code",
      "execution_count": null,
      "metadata": {
        "colab": {
          "background_save": true,
          "base_uri": "https://localhost:8080/"
        },
        "id": "dvs1csS_dILs",
        "outputId": "83fb7ab4-e761-48a4-895b-b45bf9358b84"
      },
      "outputs": [
        {
          "name": "stdout",
          "output_type": "stream",
          "text": [
            "Welcome to a game of Exploding Quokkas!\n",
            "Starting an epic game of Exploding Quokkas...\n",
            "Card dealt✅\n",
            "An-AI booted✅\n",
            "Let's begin!\n",
            "\n",
            "Card(s) left in the deck: 16\n",
            "Your deck: 1. Defuse🛠️, 2. Defuse🛠️, 3. Happy Smiling Quokka🐹🐹, 4. Nope🛑, 5. Pretty Pleasee🥺, 6. Pretty Pleasee🥺, 7. Quokka-dile🐹🐊, 8. Skip➡️, Player 1 plays Quokka-dile🐹🐊.\n",
            "🐊Chomp chomp! You have swapped hand with An!\n",
            "Player 1 just drew Defuse🛠️!\n",
            "\n",
            "An is taking its time🤖...\n",
            "beep boop\n",
            "An plays Pretty Pleasee🥺.\n",
            "\n",
            "Your deck: 1. Skip➡️, 2. Happy Smiling Quokka🐹🐹, 3. Drop Bear😡🐨, 4. Quokkamelon🐹🍉, 5. Nope🛑, 6. Happy Smiling Quokka🐹🐹, 7. See the Future👀, 8. See the Future👀, 9. Defuse🛠️, Attempting to quantum-copy a card from Player 1's hand...\n",
            "Successful clone! An gets a perfect copy of Nope🛑!\n",
            "Player 1 keeps their original card\n",
            "\n",
            "An just drew 1 card from the deck!\n",
            "Card(s) left in the deck: 14\n",
            "Your deck: 1. Defuse🛠️, 2. Drop Bear😡🐨, 3. Happy Smiling Quokka🐹🐹, 4. Happy Smiling Quokka🐹🐹, 5. Nope🛑, 6. Quokkamelon🐹🍉, 7. See the Future👀, 8. See the Future👀, 9. Skip➡️, Player 1 plays 2x Happy Smiling Quokka🐹🐹.\n",
            "You cheecky! Player 1 has stole Skip➡️ from An!\n",
            "Player 1 just drew Shuffle🔀!\n",
            "\n",
            "An is taking its time🤖...\n",
            "beep boop\n",
            "beep boop\n",
            "beep boop\n",
            "beep boop\n",
            "An plays Shuffle🔀.\n",
            "\n",
            "Your deck: 1. Defuse🛠️, 2. Drop Bear😡🐨, 3. Nope🛑, 4. Quokkamelon🐹🍉, 5. See the Future👀, 6. See the Future👀, 7. Skip➡️, 8. Skip➡️, 9. Shuffle🔀, Invalid option. Please choose again!\n",
            "🌀 Whoosh! The quantum gnomes have rearranged the game deck!\n",
            "An just drew 1 card from the deck!\n",
            "Card(s) left in the deck: 12\n",
            "Your deck: 1. Defuse🛠️, 2. Drop Bear😡🐨, 3. Nope🛑, 4. Quokkamelon🐹🍉, 5. See the Future👀, 6. See the Future👀, 7. Shuffle🔀, 8. Skip➡️, 9. Skip➡️, Invalid option. Please choose again!\n",
            "Card(s) left in the deck: 12\n",
            "Your deck: 1. Defuse🛠️, 2. Drop Bear😡🐨, 3. Nope🛑, 4. Quokkamelon🐹🍉, 5. See the Future👀, 6. See the Future👀, 7. Shuffle🔀, 8. Skip➡️, 9. Skip➡️, Player 1 plays See the Future👀.\n",
            "\n",
            "=== Quantum See the Future🔮 ===\n",
            "You see entangled glimpses of future cards:\n",
            "Card 1: Exploding Quokkas💥🐹\n",
            "  Quantum fluctuation! Card becomes Defuse🛠️ card!\n",
            "Card 2: Schrödinger's Quokka🐹📦❓\n",
            "Card 3: Pretty Pleasee🥺\n",
            "\n",
            "Player 1 just drew Defuse🛠️!\n",
            "\n",
            "An is taking its time🤖...\n",
            "beep boop\n",
            "beep boop\n",
            "beep boop\n",
            "beep boop\n",
            "beep boop\n",
            "beep boop\n",
            "beep boop\n",
            "beep boop\n",
            "An plays See the Future👀.\n",
            "\n",
            "Your deck: 1. Defuse🛠️, 2. Drop Bear😡🐨, 3. Nope🛑, 4. Quokkamelon🐹🍉, 5. See the Future👀, 6. Shuffle🔀, 7. Skip➡️, 8. Skip➡️, 9. Defuse🛠️, "
          ]
        }
      ],
      "source": [
        "play_game()"
      ]
    }
  ],
  "metadata": {
    "colab": {
      "provenance": []
    },
    "kernelspec": {
      "display_name": "Python 3",
      "name": "python3"
    },
    "language_info": {
      "name": "python"
    }
  },
  "nbformat": 4,
  "nbformat_minor": 0
}
